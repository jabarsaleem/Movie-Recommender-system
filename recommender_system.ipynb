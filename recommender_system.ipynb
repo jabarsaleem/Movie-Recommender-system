{
  "nbformat": 4,
  "nbformat_minor": 0,
  "metadata": {
    "colab": {
      "name": "recommender system.ipynb",
      "provenance": [],
      "mount_file_id": "1ZXnq9fjqzitGWUKQ1RcbsYoSpPcWV_bP",
      "authorship_tag": "ABX9TyNQUrlaHExxv0lguMJlUWgZ",
      "include_colab_link": true
    },
    "kernelspec": {
      "name": "python3",
      "display_name": "Python 3"
    }
  },
  "cells": [
    {
      "cell_type": "markdown",
      "metadata": {
        "id": "view-in-github",
        "colab_type": "text"
      },
      "source": [
        "<a href=\"https://colab.research.google.com/github/jabarsaleem/Movie-recommender-system/blob/master/recommender_system.ipynb\" target=\"_parent\"><img src=\"https://colab.research.google.com/assets/colab-badge.svg\" alt=\"Open In Colab\"/></a>"
      ]
    },
    {
      "cell_type": "code",
      "metadata": {
        "id": "_qbVsFnLa_PL",
        "colab_type": "code",
        "colab": {
          "base_uri": "https://localhost:8080/",
          "height": 71
        },
        "outputId": "175a41cd-b772-446f-8872-2d44b4ce724d"
      },
      "source": [
        "import pandas as pd \n",
        "import numpy as np \n",
        "import sklearn\n",
        "import matplotlib.pyplot as plt\n",
        "import seaborn as sns\n",
        "sns.set_style('white')\n",
        "%matplotlib inline\n"
      ],
      "execution_count": null,
      "outputs": [
        {
          "output_type": "stream",
          "text": [
            "/usr/local/lib/python3.6/dist-packages/statsmodels/tools/_testing.py:19: FutureWarning: pandas.util.testing is deprecated. Use the functions in the public API at pandas.testing instead.\n",
            "  import pandas.util.testing as tm\n"
          ],
          "name": "stderr"
        }
      ]
    },
    {
      "cell_type": "code",
      "metadata": {
        "id": "0wccNjPmbAqI",
        "colab_type": "code",
        "colab": {
          "base_uri": "https://localhost:8080/",
          "height": 275
        },
        "outputId": "c5c5056b-3d6d-4b6d-a04b-4d33afad710b"
      },
      "source": [
        "!pip install scikit-surprise"
      ],
      "execution_count": null,
      "outputs": [
        {
          "output_type": "stream",
          "text": [
            "Collecting scikit-surprise\n",
            "\u001b[?25l  Downloading https://files.pythonhosted.org/packages/f5/da/b5700d96495fb4f092be497f02492768a3d96a3f4fa2ae7dea46d4081cfa/scikit-surprise-1.1.0.tar.gz (6.4MB)\n",
            "\u001b[K     |████████████████████████████████| 6.5MB 2.4MB/s \n",
            "\u001b[?25hRequirement already satisfied: joblib>=0.11 in /usr/local/lib/python3.6/dist-packages (from scikit-surprise) (0.15.1)\n",
            "Requirement already satisfied: numpy>=1.11.2 in /usr/local/lib/python3.6/dist-packages (from scikit-surprise) (1.18.5)\n",
            "Requirement already satisfied: scipy>=1.0.0 in /usr/local/lib/python3.6/dist-packages (from scikit-surprise) (1.4.1)\n",
            "Requirement already satisfied: six>=1.10.0 in /usr/local/lib/python3.6/dist-packages (from scikit-surprise) (1.12.0)\n",
            "Building wheels for collected packages: scikit-surprise\n",
            "  Building wheel for scikit-surprise (setup.py) ... \u001b[?25l\u001b[?25hdone\n",
            "  Created wheel for scikit-surprise: filename=scikit_surprise-1.1.0-cp36-cp36m-linux_x86_64.whl size=1675736 sha256=b6a3c4279db111f14c80c55eb9faebb65f07d393b4aa1cb8e73b7b0d3b712558\n",
            "  Stored in directory: /root/.cache/pip/wheels/cc/fa/8c/16c93fccce688ae1bde7d979ff102f7bee980d9cfeb8641bcf\n",
            "Successfully built scikit-surprise\n",
            "Installing collected packages: scikit-surprise\n",
            "Successfully installed scikit-surprise-1.1.0\n"
          ],
          "name": "stdout"
        }
      ]
    },
    {
      "cell_type": "code",
      "metadata": {
        "id": "oJDroFOlb0k8",
        "colab_type": "code",
        "colab": {}
      },
      "source": [
        "from surprise import NormalPredictor\n",
        "from surprise import KNNBasic\n",
        "from surprise import KNNWithMeans\n",
        "from surprise import KNNWithZScore\n",
        "from surprise import KNNBaseline\n",
        "from surprise import SVD\n",
        "from surprise import SVDpp\n",
        "from surprise import NMF\n",
        "from surprise import SlopeOne\n",
        "from surprise import CoClustering\n",
        "from surprise.accuracy import rmse\n",
        "from surprise import accuracy\n",
        "from surprise.model_selection import train_test_split\n",
        "from surprise.model_selection import GridSearchCV\n",
        "from collections import defaultdict"
      ],
      "execution_count": null,
      "outputs": []
    },
    {
      "cell_type": "code",
      "metadata": {
        "id": "FClz8pBqb4VP",
        "colab_type": "code",
        "colab": {
          "base_uri": "https://localhost:8080/",
          "height": 122
        },
        "outputId": "5a2c2b88-0f33-404a-949f-1fff375fa60b"
      },
      "source": [
        "from google.colab import drive\n",
        "drive.mount('/content/gdrive')"
      ],
      "execution_count": null,
      "outputs": [
        {
          "output_type": "stream",
          "text": [
            "Go to this URL in a browser: https://accounts.google.com/o/oauth2/auth?client_id=947318989803-6bn6qk8qdgf4n4g3pfee6491hc0brc4i.apps.googleusercontent.com&redirect_uri=urn%3aietf%3awg%3aoauth%3a2.0%3aoob&response_type=code&scope=email%20https%3a%2f%2fwww.googleapis.com%2fauth%2fdocs.test%20https%3a%2f%2fwww.googleapis.com%2fauth%2fdrive%20https%3a%2f%2fwww.googleapis.com%2fauth%2fdrive.photos.readonly%20https%3a%2f%2fwww.googleapis.com%2fauth%2fpeopleapi.readonly\n",
            "\n",
            "Enter your authorization code:\n",
            "··········\n",
            "Mounted at /content/gdrive\n"
          ],
          "name": "stdout"
        }
      ]
    },
    {
      "cell_type": "code",
      "metadata": {
        "id": "TIlFyz-Ob99l",
        "colab_type": "code",
        "colab": {}
      },
      "source": [
        "\n",
        "df2 = pd.read_csv('/content/drive/My Drive/recommender system/tmdb_5000_movies.csv')"
      ],
      "execution_count": null,
      "outputs": []
    },
    {
      "cell_type": "code",
      "metadata": {
        "id": "VeXYDzZqdaAJ",
        "colab_type": "code",
        "colab": {}
      },
      "source": [
        "df1 = pd.read_csv('/content/drive/My Drive/recommender system/tmdb_5000_credits.csv')\n"
      ],
      "execution_count": null,
      "outputs": []
    },
    {
      "cell_type": "code",
      "metadata": {
        "id": "M6tcIp7hfHO2",
        "colab_type": "code",
        "colab": {
          "base_uri": "https://localhost:8080/",
          "height": 717
        },
        "outputId": "c6aecf98-1f94-4f19-f9f3-52750dac1359"
      },
      "source": [
        "df2.head()"
      ],
      "execution_count": null,
      "outputs": [
        {
          "output_type": "execute_result",
          "data": {
            "text/html": [
              "<div>\n",
              "<style scoped>\n",
              "    .dataframe tbody tr th:only-of-type {\n",
              "        vertical-align: middle;\n",
              "    }\n",
              "\n",
              "    .dataframe tbody tr th {\n",
              "        vertical-align: top;\n",
              "    }\n",
              "\n",
              "    .dataframe thead th {\n",
              "        text-align: right;\n",
              "    }\n",
              "</style>\n",
              "<table border=\"1\" class=\"dataframe\">\n",
              "  <thead>\n",
              "    <tr style=\"text-align: right;\">\n",
              "      <th></th>\n",
              "      <th>budget</th>\n",
              "      <th>genres</th>\n",
              "      <th>homepage</th>\n",
              "      <th>id</th>\n",
              "      <th>keywords</th>\n",
              "      <th>original_language</th>\n",
              "      <th>original_title</th>\n",
              "      <th>overview</th>\n",
              "      <th>popularity</th>\n",
              "      <th>production_companies</th>\n",
              "      <th>production_countries</th>\n",
              "      <th>release_date</th>\n",
              "      <th>revenue</th>\n",
              "      <th>runtime</th>\n",
              "      <th>spoken_languages</th>\n",
              "      <th>status</th>\n",
              "      <th>tagline</th>\n",
              "      <th>title</th>\n",
              "      <th>vote_average</th>\n",
              "      <th>vote_count</th>\n",
              "    </tr>\n",
              "  </thead>\n",
              "  <tbody>\n",
              "    <tr>\n",
              "      <th>0</th>\n",
              "      <td>237000000</td>\n",
              "      <td>[{\"id\": 28, \"name\": \"Action\"}, {\"id\": 12, \"nam...</td>\n",
              "      <td>http://www.avatarmovie.com/</td>\n",
              "      <td>19995</td>\n",
              "      <td>[{\"id\": 1463, \"name\": \"culture clash\"}, {\"id\":...</td>\n",
              "      <td>en</td>\n",
              "      <td>Avatar</td>\n",
              "      <td>In the 22nd century, a paraplegic Marine is di...</td>\n",
              "      <td>150.437577</td>\n",
              "      <td>[{\"name\": \"Ingenious Film Partners\", \"id\": 289...</td>\n",
              "      <td>[{\"iso_3166_1\": \"US\", \"name\": \"United States o...</td>\n",
              "      <td>2009-12-10</td>\n",
              "      <td>2787965087</td>\n",
              "      <td>162.0</td>\n",
              "      <td>[{\"iso_639_1\": \"en\", \"name\": \"English\"}, {\"iso...</td>\n",
              "      <td>Released</td>\n",
              "      <td>Enter the World of Pandora.</td>\n",
              "      <td>Avatar</td>\n",
              "      <td>7.2</td>\n",
              "      <td>11800</td>\n",
              "    </tr>\n",
              "    <tr>\n",
              "      <th>1</th>\n",
              "      <td>300000000</td>\n",
              "      <td>[{\"id\": 12, \"name\": \"Adventure\"}, {\"id\": 14, \"...</td>\n",
              "      <td>http://disney.go.com/disneypictures/pirates/</td>\n",
              "      <td>285</td>\n",
              "      <td>[{\"id\": 270, \"name\": \"ocean\"}, {\"id\": 726, \"na...</td>\n",
              "      <td>en</td>\n",
              "      <td>Pirates of the Caribbean: At World's End</td>\n",
              "      <td>Captain Barbossa, long believed to be dead, ha...</td>\n",
              "      <td>139.082615</td>\n",
              "      <td>[{\"name\": \"Walt Disney Pictures\", \"id\": 2}, {\"...</td>\n",
              "      <td>[{\"iso_3166_1\": \"US\", \"name\": \"United States o...</td>\n",
              "      <td>2007-05-19</td>\n",
              "      <td>961000000</td>\n",
              "      <td>169.0</td>\n",
              "      <td>[{\"iso_639_1\": \"en\", \"name\": \"English\"}]</td>\n",
              "      <td>Released</td>\n",
              "      <td>At the end of the world, the adventure begins.</td>\n",
              "      <td>Pirates of the Caribbean: At World's End</td>\n",
              "      <td>6.9</td>\n",
              "      <td>4500</td>\n",
              "    </tr>\n",
              "    <tr>\n",
              "      <th>2</th>\n",
              "      <td>245000000</td>\n",
              "      <td>[{\"id\": 28, \"name\": \"Action\"}, {\"id\": 12, \"nam...</td>\n",
              "      <td>http://www.sonypictures.com/movies/spectre/</td>\n",
              "      <td>206647</td>\n",
              "      <td>[{\"id\": 470, \"name\": \"spy\"}, {\"id\": 818, \"name...</td>\n",
              "      <td>en</td>\n",
              "      <td>Spectre</td>\n",
              "      <td>A cryptic message from Bond’s past sends him o...</td>\n",
              "      <td>107.376788</td>\n",
              "      <td>[{\"name\": \"Columbia Pictures\", \"id\": 5}, {\"nam...</td>\n",
              "      <td>[{\"iso_3166_1\": \"GB\", \"name\": \"United Kingdom\"...</td>\n",
              "      <td>2015-10-26</td>\n",
              "      <td>880674609</td>\n",
              "      <td>148.0</td>\n",
              "      <td>[{\"iso_639_1\": \"fr\", \"name\": \"Fran\\u00e7ais\"},...</td>\n",
              "      <td>Released</td>\n",
              "      <td>A Plan No One Escapes</td>\n",
              "      <td>Spectre</td>\n",
              "      <td>6.3</td>\n",
              "      <td>4466</td>\n",
              "    </tr>\n",
              "    <tr>\n",
              "      <th>3</th>\n",
              "      <td>250000000</td>\n",
              "      <td>[{\"id\": 28, \"name\": \"Action\"}, {\"id\": 80, \"nam...</td>\n",
              "      <td>http://www.thedarkknightrises.com/</td>\n",
              "      <td>49026</td>\n",
              "      <td>[{\"id\": 849, \"name\": \"dc comics\"}, {\"id\": 853,...</td>\n",
              "      <td>en</td>\n",
              "      <td>The Dark Knight Rises</td>\n",
              "      <td>Following the death of District Attorney Harve...</td>\n",
              "      <td>112.312950</td>\n",
              "      <td>[{\"name\": \"Legendary Pictures\", \"id\": 923}, {\"...</td>\n",
              "      <td>[{\"iso_3166_1\": \"US\", \"name\": \"United States o...</td>\n",
              "      <td>2012-07-16</td>\n",
              "      <td>1084939099</td>\n",
              "      <td>165.0</td>\n",
              "      <td>[{\"iso_639_1\": \"en\", \"name\": \"English\"}]</td>\n",
              "      <td>Released</td>\n",
              "      <td>The Legend Ends</td>\n",
              "      <td>The Dark Knight Rises</td>\n",
              "      <td>7.6</td>\n",
              "      <td>9106</td>\n",
              "    </tr>\n",
              "    <tr>\n",
              "      <th>4</th>\n",
              "      <td>260000000</td>\n",
              "      <td>[{\"id\": 28, \"name\": \"Action\"}, {\"id\": 12, \"nam...</td>\n",
              "      <td>http://movies.disney.com/john-carter</td>\n",
              "      <td>49529</td>\n",
              "      <td>[{\"id\": 818, \"name\": \"based on novel\"}, {\"id\":...</td>\n",
              "      <td>en</td>\n",
              "      <td>John Carter</td>\n",
              "      <td>John Carter is a war-weary, former military ca...</td>\n",
              "      <td>43.926995</td>\n",
              "      <td>[{\"name\": \"Walt Disney Pictures\", \"id\": 2}]</td>\n",
              "      <td>[{\"iso_3166_1\": \"US\", \"name\": \"United States o...</td>\n",
              "      <td>2012-03-07</td>\n",
              "      <td>284139100</td>\n",
              "      <td>132.0</td>\n",
              "      <td>[{\"iso_639_1\": \"en\", \"name\": \"English\"}]</td>\n",
              "      <td>Released</td>\n",
              "      <td>Lost in our world, found in another.</td>\n",
              "      <td>John Carter</td>\n",
              "      <td>6.1</td>\n",
              "      <td>2124</td>\n",
              "    </tr>\n",
              "  </tbody>\n",
              "</table>\n",
              "</div>"
            ],
            "text/plain": [
              "      budget  ... vote_count\n",
              "0  237000000  ...      11800\n",
              "1  300000000  ...       4500\n",
              "2  245000000  ...       4466\n",
              "3  250000000  ...       9106\n",
              "4  260000000  ...       2124\n",
              "\n",
              "[5 rows x 20 columns]"
            ]
          },
          "metadata": {
            "tags": []
          },
          "execution_count": 10
        }
      ]
    },
    {
      "cell_type": "code",
      "metadata": {
        "id": "LQFABsFkfMR5",
        "colab_type": "code",
        "colab": {
          "base_uri": "https://localhost:8080/",
          "height": 185
        },
        "outputId": "ecb53eed-f31f-47cc-a7d6-11a0072400ec"
      },
      "source": [
        "df1.columns = ['id','tittle','cast','crew']\n",
        "df2= df2.merge(df1,on='id')\n",
        "df2.head(1)"
      ],
      "execution_count": null,
      "outputs": [
        {
          "output_type": "execute_result",
          "data": {
            "text/html": [
              "<div>\n",
              "<style scoped>\n",
              "    .dataframe tbody tr th:only-of-type {\n",
              "        vertical-align: middle;\n",
              "    }\n",
              "\n",
              "    .dataframe tbody tr th {\n",
              "        vertical-align: top;\n",
              "    }\n",
              "\n",
              "    .dataframe thead th {\n",
              "        text-align: right;\n",
              "    }\n",
              "</style>\n",
              "<table border=\"1\" class=\"dataframe\">\n",
              "  <thead>\n",
              "    <tr style=\"text-align: right;\">\n",
              "      <th></th>\n",
              "      <th>budget</th>\n",
              "      <th>genres</th>\n",
              "      <th>homepage</th>\n",
              "      <th>id</th>\n",
              "      <th>keywords</th>\n",
              "      <th>original_language</th>\n",
              "      <th>original_title</th>\n",
              "      <th>overview</th>\n",
              "      <th>popularity</th>\n",
              "      <th>production_companies</th>\n",
              "      <th>production_countries</th>\n",
              "      <th>release_date</th>\n",
              "      <th>revenue</th>\n",
              "      <th>runtime</th>\n",
              "      <th>spoken_languages</th>\n",
              "      <th>status</th>\n",
              "      <th>tagline</th>\n",
              "      <th>title</th>\n",
              "      <th>vote_average</th>\n",
              "      <th>vote_count</th>\n",
              "      <th>tittle</th>\n",
              "      <th>cast</th>\n",
              "      <th>crew</th>\n",
              "    </tr>\n",
              "  </thead>\n",
              "  <tbody>\n",
              "    <tr>\n",
              "      <th>0</th>\n",
              "      <td>237000000</td>\n",
              "      <td>[{\"id\": 28, \"name\": \"Action\"}, {\"id\": 12, \"nam...</td>\n",
              "      <td>http://www.avatarmovie.com/</td>\n",
              "      <td>19995</td>\n",
              "      <td>[{\"id\": 1463, \"name\": \"culture clash\"}, {\"id\":...</td>\n",
              "      <td>en</td>\n",
              "      <td>Avatar</td>\n",
              "      <td>In the 22nd century, a paraplegic Marine is di...</td>\n",
              "      <td>150.437577</td>\n",
              "      <td>[{\"name\": \"Ingenious Film Partners\", \"id\": 289...</td>\n",
              "      <td>[{\"iso_3166_1\": \"US\", \"name\": \"United States o...</td>\n",
              "      <td>2009-12-10</td>\n",
              "      <td>2787965087</td>\n",
              "      <td>162.0</td>\n",
              "      <td>[{\"iso_639_1\": \"en\", \"name\": \"English\"}, {\"iso...</td>\n",
              "      <td>Released</td>\n",
              "      <td>Enter the World of Pandora.</td>\n",
              "      <td>Avatar</td>\n",
              "      <td>7.2</td>\n",
              "      <td>11800</td>\n",
              "      <td>Avatar</td>\n",
              "      <td>[{\"cast_id\": 242, \"character\": \"Jake Sully\", \"...</td>\n",
              "      <td>[{\"credit_id\": \"52fe48009251416c750aca23\", \"de...</td>\n",
              "    </tr>\n",
              "  </tbody>\n",
              "</table>\n",
              "</div>"
            ],
            "text/plain": [
              "      budget  ...                                               crew\n",
              "0  237000000  ...  [{\"credit_id\": \"52fe48009251416c750aca23\", \"de...\n",
              "\n",
              "[1 rows x 23 columns]"
            ]
          },
          "metadata": {
            "tags": []
          },
          "execution_count": 11
        }
      ]
    },
    {
      "cell_type": "code",
      "metadata": {
        "id": "s2t9Bi2DfXP4",
        "colab_type": "code",
        "colab": {
          "base_uri": "https://localhost:8080/",
          "height": 136
        },
        "outputId": "12a1e4f3-3858-4fcc-9af4-ef6b2de9c08d"
      },
      "source": [
        "df2.groupby('title')['vote_average'].mean().sort_values(ascending=False).head()"
      ],
      "execution_count": null,
      "outputs": [
        {
          "output_type": "execute_result",
          "data": {
            "text/plain": [
              "title\n",
              "Me You and Five Bucks    10.0\n",
              "Dancer, Texas Pop. 81    10.0\n",
              "Stiff Upper Lips         10.0\n",
              "Little Big Top           10.0\n",
              "Sardaarji                 9.5\n",
              "Name: vote_average, dtype: float64"
            ]
          },
          "metadata": {
            "tags": []
          },
          "execution_count": 12
        }
      ]
    },
    {
      "cell_type": "code",
      "metadata": {
        "id": "cHVjrp58fYK7",
        "colab_type": "code",
        "colab": {
          "base_uri": "https://localhost:8080/",
          "height": 136
        },
        "outputId": "908701b2-ae50-4211-bcd7-d83db10d6b55"
      },
      "source": [
        "df2.groupby('title')['vote_average'].count().sort_values(ascending=False).head()"
      ],
      "execution_count": null,
      "outputs": [
        {
          "output_type": "execute_result",
          "data": {
            "text/plain": [
              "title\n",
              "Out of the Blue       2\n",
              "Batman                2\n",
              "The Host              2\n",
              "Æon Flux              1\n",
              "Hearts in Atlantis    1\n",
              "Name: vote_average, dtype: int64"
            ]
          },
          "metadata": {
            "tags": []
          },
          "execution_count": 13
        }
      ]
    },
    {
      "cell_type": "code",
      "metadata": {
        "id": "GOCY-oM0fbSJ",
        "colab_type": "code",
        "colab": {
          "base_uri": "https://localhost:8080/",
          "height": 235
        },
        "outputId": "77f1ccbd-a44c-4509-e4cd-b4f58fba8592"
      },
      "source": [
        "ratings = pd.DataFrame(df2.groupby('title')['vote_average'].mean().sort_values(ascending=False))\n",
        "ratings.head()"
      ],
      "execution_count": null,
      "outputs": [
        {
          "output_type": "execute_result",
          "data": {
            "text/html": [
              "<div>\n",
              "<style scoped>\n",
              "    .dataframe tbody tr th:only-of-type {\n",
              "        vertical-align: middle;\n",
              "    }\n",
              "\n",
              "    .dataframe tbody tr th {\n",
              "        vertical-align: top;\n",
              "    }\n",
              "\n",
              "    .dataframe thead th {\n",
              "        text-align: right;\n",
              "    }\n",
              "</style>\n",
              "<table border=\"1\" class=\"dataframe\">\n",
              "  <thead>\n",
              "    <tr style=\"text-align: right;\">\n",
              "      <th></th>\n",
              "      <th>vote_average</th>\n",
              "    </tr>\n",
              "    <tr>\n",
              "      <th>title</th>\n",
              "      <th></th>\n",
              "    </tr>\n",
              "  </thead>\n",
              "  <tbody>\n",
              "    <tr>\n",
              "      <th>Me You and Five Bucks</th>\n",
              "      <td>10.0</td>\n",
              "    </tr>\n",
              "    <tr>\n",
              "      <th>Dancer, Texas Pop. 81</th>\n",
              "      <td>10.0</td>\n",
              "    </tr>\n",
              "    <tr>\n",
              "      <th>Stiff Upper Lips</th>\n",
              "      <td>10.0</td>\n",
              "    </tr>\n",
              "    <tr>\n",
              "      <th>Little Big Top</th>\n",
              "      <td>10.0</td>\n",
              "    </tr>\n",
              "    <tr>\n",
              "      <th>Sardaarji</th>\n",
              "      <td>9.5</td>\n",
              "    </tr>\n",
              "  </tbody>\n",
              "</table>\n",
              "</div>"
            ],
            "text/plain": [
              "                       vote_average\n",
              "title                              \n",
              "Me You and Five Bucks          10.0\n",
              "Dancer, Texas Pop. 81          10.0\n",
              "Stiff Upper Lips               10.0\n",
              "Little Big Top                 10.0\n",
              "Sardaarji                       9.5"
            ]
          },
          "metadata": {
            "tags": []
          },
          "execution_count": 14
        }
      ]
    },
    {
      "cell_type": "code",
      "metadata": {
        "id": "4wdgwi3bfgw5",
        "colab_type": "code",
        "colab": {
          "base_uri": "https://localhost:8080/",
          "height": 527
        },
        "outputId": "57cf6058-db9a-456e-988a-07fc73a72424"
      },
      "source": [
        "df2.info()"
      ],
      "execution_count": null,
      "outputs": [
        {
          "output_type": "stream",
          "text": [
            "<class 'pandas.core.frame.DataFrame'>\n",
            "Int64Index: 4803 entries, 0 to 4802\n",
            "Data columns (total 23 columns):\n",
            " #   Column                Non-Null Count  Dtype  \n",
            "---  ------                --------------  -----  \n",
            " 0   budget                4803 non-null   int64  \n",
            " 1   genres                4803 non-null   object \n",
            " 2   homepage              1712 non-null   object \n",
            " 3   id                    4803 non-null   int64  \n",
            " 4   keywords              4803 non-null   object \n",
            " 5   original_language     4803 non-null   object \n",
            " 6   original_title        4803 non-null   object \n",
            " 7   overview              4800 non-null   object \n",
            " 8   popularity            4803 non-null   float64\n",
            " 9   production_companies  4803 non-null   object \n",
            " 10  production_countries  4803 non-null   object \n",
            " 11  release_date          4802 non-null   object \n",
            " 12  revenue               4803 non-null   int64  \n",
            " 13  runtime               4801 non-null   float64\n",
            " 14  spoken_languages      4803 non-null   object \n",
            " 15  status                4803 non-null   object \n",
            " 16  tagline               3959 non-null   object \n",
            " 17  title                 4803 non-null   object \n",
            " 18  vote_average          4803 non-null   float64\n",
            " 19  vote_count            4803 non-null   int64  \n",
            " 20  tittle                4803 non-null   object \n",
            " 21  cast                  4803 non-null   object \n",
            " 22  crew                  4803 non-null   object \n",
            "dtypes: float64(3), int64(4), object(16)\n",
            "memory usage: 900.6+ KB\n"
          ],
          "name": "stdout"
        }
      ]
    },
    {
      "cell_type": "code",
      "metadata": {
        "id": "VP8vqT3tfj0V",
        "colab_type": "code",
        "colab": {
          "base_uri": "https://localhost:8080/",
          "height": 282
        },
        "outputId": "04ce62f4-86c0-4d55-dd9f-e4ed3093b622"
      },
      "source": [
        "plt.figure(figsize=(10,4))\n",
        "ratings['vote_average'].hist(bins=70)\n"
      ],
      "execution_count": null,
      "outputs": [
        {
          "output_type": "execute_result",
          "data": {
            "text/plain": [
              "<matplotlib.axes._subplots.AxesSubplot at 0x7ff6386de198>"
            ]
          },
          "metadata": {
            "tags": []
          },
          "execution_count": 16
        },
        {
          "output_type": "display_data",
          "data": {
            "image/png": "[encoded data removed]",
            "text/plain": [
              "<Figure size 720x288 with 1 Axes>"
            ]
          },
          "metadata": {
            "tags": [],
            "needs_background": "light"
          }
        }
      ]
    },
    {
      "cell_type": "code",
      "metadata": {
        "id": "bV3RdsW5fnbp",
        "colab_type": "code",
        "colab": {
          "base_uri": "https://localhost:8080/",
          "height": 34
        },
        "outputId": "8c91740e-bad2-49b5-ffad-e8ec202b7f9e"
      },
      "source": [
        "C= df2['vote_average'].mean()\n",
        "C"
      ],
      "execution_count": null,
      "outputs": [
        {
          "output_type": "execute_result",
          "data": {
            "text/plain": [
              "6.092171559442011"
            ]
          },
          "metadata": {
            "tags": []
          },
          "execution_count": 17
        }
      ]
    },
    {
      "cell_type": "code",
      "metadata": {
        "id": "91wQu-X7frGJ",
        "colab_type": "code",
        "colab": {
          "base_uri": "https://localhost:8080/",
          "height": 34
        },
        "outputId": "1c6fa3b8-acc3-4d3f-a510-b4e19bf15ecc"
      },
      "source": [
        "m= df2['vote_count'].quantile(0.95)\n",
        "m"
      ],
      "execution_count": null,
      "outputs": [
        {
          "output_type": "execute_result",
          "data": {
            "text/plain": [
              "3040.8999999999996"
            ]
          },
          "metadata": {
            "tags": []
          },
          "execution_count": 18
        }
      ]
    },
    {
      "cell_type": "code",
      "metadata": {
        "id": "Ihpu6_p_ftfK",
        "colab_type": "code",
        "colab": {}
      },
      "source": [
        "q_movies = df2.copy().loc[df2['vote_count'] >= m]\n",
        "q_movies.shape\n",
        "v=df2['vote_count']"
      ],
      "execution_count": null,
      "outputs": []
    },
    {
      "cell_type": "code",
      "metadata": {
        "id": "R1C3AGbufwGb",
        "colab_type": "code",
        "colab": {}
      },
      "source": [
        "def weighted_rating(x, m=m, C=C):\n",
        "    v = x['vote_count']\n",
        "    R = x['vote_average']\n",
        "    # Calculation based on the IMDB formula\n",
        "    return (v/(v+m) * R) + (m/(m+v) * C)"
      ],
      "execution_count": null,
      "outputs": []
    },
    {
      "cell_type": "code",
      "metadata": {
        "id": "QACB5Z2Efyoc",
        "colab_type": "code",
        "colab": {}
      },
      "source": [
        "q_movies['score'] = q_movies.apply(weighted_rating, axis=1)\n"
      ],
      "execution_count": null,
      "outputs": []
    },
    {
      "cell_type": "code",
      "metadata": {
        "id": "VhmtBXVlf1eG",
        "colab_type": "code",
        "colab": {
          "base_uri": "https://localhost:8080/",
          "height": 514
        },
        "outputId": "f20bbb6b-cc9e-4a67-bcd1-7964b5fdfe71"
      },
      "source": [
        "q_movies = q_movies.sort_values('score', ascending=False)\n",
        "\n",
        "q_movies[['title', 'vote_count', 'vote_average', 'score','popularity']].head(15)"
      ],
      "execution_count": null,
      "outputs": [
        {
          "output_type": "execute_result",
          "data": {
            "text/html": [
              "<div>\n",
              "<style scoped>\n",
              "    .dataframe tbody tr th:only-of-type {\n",
              "        vertical-align: middle;\n",
              "    }\n",
              "\n",
              "    .dataframe tbody tr th {\n",
              "        vertical-align: top;\n",
              "    }\n",
              "\n",
              "    .dataframe thead th {\n",
              "        text-align: right;\n",
              "    }\n",
              "</style>\n",
              "<table border=\"1\" class=\"dataframe\">\n",
              "  <thead>\n",
              "    <tr style=\"text-align: right;\">\n",
              "      <th></th>\n",
              "      <th>title</th>\n",
              "      <th>vote_count</th>\n",
              "      <th>vote_average</th>\n",
              "      <th>score</th>\n",
              "      <th>popularity</th>\n",
              "    </tr>\n",
              "  </thead>\n",
              "  <tbody>\n",
              "    <tr>\n",
              "      <th>1881</th>\n",
              "      <td>The Shawshank Redemption</td>\n",
              "      <td>8205</td>\n",
              "      <td>8.5</td>\n",
              "      <td>7.848921</td>\n",
              "      <td>136.747729</td>\n",
              "    </tr>\n",
              "    <tr>\n",
              "      <th>65</th>\n",
              "      <td>The Dark Knight</td>\n",
              "      <td>12002</td>\n",
              "      <td>8.2</td>\n",
              "      <td>7.773906</td>\n",
              "      <td>187.322927</td>\n",
              "    </tr>\n",
              "    <tr>\n",
              "      <th>662</th>\n",
              "      <td>Fight Club</td>\n",
              "      <td>9413</td>\n",
              "      <td>8.3</td>\n",
              "      <td>7.760909</td>\n",
              "      <td>146.757391</td>\n",
              "    </tr>\n",
              "    <tr>\n",
              "      <th>96</th>\n",
              "      <td>Inception</td>\n",
              "      <td>13752</td>\n",
              "      <td>8.1</td>\n",
              "      <td>7.736417</td>\n",
              "      <td>167.583710</td>\n",
              "    </tr>\n",
              "    <tr>\n",
              "      <th>3232</th>\n",
              "      <td>Pulp Fiction</td>\n",
              "      <td>8428</td>\n",
              "      <td>8.3</td>\n",
              "      <td>7.714609</td>\n",
              "      <td>121.463076</td>\n",
              "    </tr>\n",
              "    <tr>\n",
              "      <th>95</th>\n",
              "      <td>Interstellar</td>\n",
              "      <td>10867</td>\n",
              "      <td>8.1</td>\n",
              "      <td>7.660997</td>\n",
              "      <td>724.247784</td>\n",
              "    </tr>\n",
              "    <tr>\n",
              "      <th>809</th>\n",
              "      <td>Forrest Gump</td>\n",
              "      <td>7927</td>\n",
              "      <td>8.2</td>\n",
              "      <td>7.615595</td>\n",
              "      <td>138.133331</td>\n",
              "    </tr>\n",
              "    <tr>\n",
              "      <th>3337</th>\n",
              "      <td>The Godfather</td>\n",
              "      <td>5893</td>\n",
              "      <td>8.4</td>\n",
              "      <td>7.614467</td>\n",
              "      <td>143.659698</td>\n",
              "    </tr>\n",
              "    <tr>\n",
              "      <th>329</th>\n",
              "      <td>The Lord of the Rings: The Return of the King</td>\n",
              "      <td>8064</td>\n",
              "      <td>8.1</td>\n",
              "      <td>7.550188</td>\n",
              "      <td>123.630332</td>\n",
              "    </tr>\n",
              "    <tr>\n",
              "      <th>262</th>\n",
              "      <td>The Lord of the Rings: The Fellowship of the Ring</td>\n",
              "      <td>8705</td>\n",
              "      <td>8.0</td>\n",
              "      <td>7.506082</td>\n",
              "      <td>138.049577</td>\n",
              "    </tr>\n",
              "    <tr>\n",
              "      <th>1990</th>\n",
              "      <td>The Empire Strikes Back</td>\n",
              "      <td>5879</td>\n",
              "      <td>8.2</td>\n",
              "      <td>7.481416</td>\n",
              "      <td>78.517830</td>\n",
              "    </tr>\n",
              "    <tr>\n",
              "      <th>94</th>\n",
              "      <td>Guardians of the Galaxy</td>\n",
              "      <td>9742</td>\n",
              "      <td>7.9</td>\n",
              "      <td>7.469939</td>\n",
              "      <td>481.098624</td>\n",
              "    </tr>\n",
              "    <tr>\n",
              "      <th>2912</th>\n",
              "      <td>Star Wars</td>\n",
              "      <td>6624</td>\n",
              "      <td>8.1</td>\n",
              "      <td>7.468270</td>\n",
              "      <td>126.393695</td>\n",
              "    </tr>\n",
              "    <tr>\n",
              "      <th>330</th>\n",
              "      <td>The Lord of the Rings: The Two Towers</td>\n",
              "      <td>7487</td>\n",
              "      <td>8.0</td>\n",
              "      <td>7.448939</td>\n",
              "      <td>106.914973</td>\n",
              "    </tr>\n",
              "    <tr>\n",
              "      <th>634</th>\n",
              "      <td>The Matrix</td>\n",
              "      <td>8907</td>\n",
              "      <td>7.9</td>\n",
              "      <td>7.439884</td>\n",
              "      <td>104.309993</td>\n",
              "    </tr>\n",
              "  </tbody>\n",
              "</table>\n",
              "</div>"
            ],
            "text/plain": [
              "                                                  title  ...  popularity\n",
              "1881                           The Shawshank Redemption  ...  136.747729\n",
              "65                                      The Dark Knight  ...  187.322927\n",
              "662                                          Fight Club  ...  146.757391\n",
              "96                                            Inception  ...  167.583710\n",
              "3232                                       Pulp Fiction  ...  121.463076\n",
              "95                                         Interstellar  ...  724.247784\n",
              "809                                        Forrest Gump  ...  138.133331\n",
              "3337                                      The Godfather  ...  143.659698\n",
              "329       The Lord of the Rings: The Return of the King  ...  123.630332\n",
              "262   The Lord of the Rings: The Fellowship of the Ring  ...  138.049577\n",
              "1990                            The Empire Strikes Back  ...   78.517830\n",
              "94                              Guardians of the Galaxy  ...  481.098624\n",
              "2912                                          Star Wars  ...  126.393695\n",
              "330               The Lord of the Rings: The Two Towers  ...  106.914973\n",
              "634                                          The Matrix  ...  104.309993\n",
              "\n",
              "[15 rows x 5 columns]"
            ]
          },
          "metadata": {
            "tags": []
          },
          "execution_count": 22
        }
      ]
    },
    {
      "cell_type": "code",
      "metadata": {
        "id": "bLwASC4Sf33Z",
        "colab_type": "code",
        "colab": {
          "base_uri": "https://localhost:8080/",
          "height": 421
        },
        "outputId": "abe0d1db-b918-4125-c5c3-5f9445c897e1"
      },
      "source": [
        "pop= q_movies.sort_values('score', ascending=False)\n",
        "import matplotlib.pyplot as plt\n",
        "plt.figure(figsize=(12,6))\n",
        "\n",
        "plt.barh(pop['title'].head(6),pop['score'].head(6), align='center',\n",
        "        color='grey')\n",
        "plt.gca().invert_yaxis()\n",
        "plt.xlabel(\"scores\")\n",
        "plt.title(\"Popular Movies\")"
      ],
      "execution_count": null,
      "outputs": [
        {
          "output_type": "execute_result",
          "data": {
            "text/plain": [
              "Text(0.5, 1.0, 'Popular Movies')"
            ]
          },
          "metadata": {
            "tags": []
          },
          "execution_count": 23
        },
        {
          "output_type": "display_data",
          "data": {
            "image/png": "[encoded data removed]",
            "text/plain": [
              "<Figure size 864x432 with 1 Axes>"
            ]
          },
          "metadata": {
            "tags": [],
            "needs_background": "light"
          }
        }
      ]
    },
    {
      "cell_type": "code",
      "metadata": {
        "id": "IRhGtP69f6th",
        "colab_type": "code",
        "colab": {
          "base_uri": "https://localhost:8080/",
          "height": 380
        },
        "outputId": "79aeead5-a407-4b75-e0dc-ddb576a6b056"
      },
      "source": [
        "pop= df2.sort_values('popularity', ascending=False)\n",
        "import matplotlib.pyplot as plt\n",
        "plt.figure(figsize=(12,6))\n",
        "\n",
        "plt.barh(pop['title'].head(10),pop['popularity'].head(10), align='center',\n",
        "        color='green')\n",
        "plt.gca().invert_yaxis()\n",
        "plt.xlabel(\"Popularity\")\n",
        "plt.title(\"Popular Movies\")"
      ],
      "execution_count": null,
      "outputs": [
        {
          "output_type": "execute_result",
          "data": {
            "text/plain": [
              "Text(0.5, 1.0, 'Popular Movies')"
            ]
          },
          "metadata": {
            "tags": []
          },
          "execution_count": 24
        },
        {
          "output_type": "display_data",
          "data": {
            "image/png": "[encoded data removed]",
            "text/plain": [
              "<Figure size 864x432 with 1 Axes>"
            ]
          },
          "metadata": {
            "tags": [],
            "needs_background": "light"
          }
        }
      ]
    },
    {
      "cell_type": "code",
      "metadata": {
        "id": "ZjnhjSOhgAy_",
        "colab_type": "code",
        "colab": {
          "base_uri": "https://localhost:8080/",
          "height": 119
        },
        "outputId": "fbb12f1b-1b53-4d1d-d0c4-e1ad9cf28bc8"
      },
      "source": [
        "df2['overview'].head(5)"
      ],
      "execution_count": null,
      "outputs": [
        {
          "output_type": "execute_result",
          "data": {
            "text/plain": [
              "0    In the 22nd century, a paraplegic Marine is di...\n",
              "1    Captain Barbossa, long believed to be dead, ha...\n",
              "2    A cryptic message from Bond’s past sends him o...\n",
              "3    Following the death of District Attorney Harve...\n",
              "4    John Carter is a war-weary, former military ca...\n",
              "Name: overview, dtype: object"
            ]
          },
          "metadata": {
            "tags": []
          },
          "execution_count": 25
        }
      ]
    },
    {
      "cell_type": "code",
      "metadata": {
        "id": "VdiK-HxMgDv_",
        "colab_type": "code",
        "colab": {
          "base_uri": "https://localhost:8080/",
          "height": 34
        },
        "outputId": "1f8e7536-6542-4ac7-9bc0-371eef4b3bdd"
      },
      "source": [
        "from sklearn.feature_extraction.text import TfidfVectorizer\n",
        "tfidf = TfidfVectorizer(stop_words='english')\n",
        "df2['overview'] = df2['overview'].fillna('')\n",
        "tfidf_matrix = tfidf.fit_transform(df2['overview'])\n",
        "tfidf_matrix.shape"
      ],
      "execution_count": null,
      "outputs": [
        {
          "output_type": "execute_result",
          "data": {
            "text/plain": [
              "(4803, 20978)"
            ]
          },
          "metadata": {
            "tags": []
          },
          "execution_count": 26
        }
      ]
    },
    {
      "cell_type": "code",
      "metadata": {
        "id": "Bu8Wmvx0gIW8",
        "colab_type": "code",
        "colab": {}
      },
      "source": [
        "from sklearn.metrics.pairwise import linear_kernel\n",
        "cosine_sim = linear_kernel(tfidf_matrix, tfidf_matrix)"
      ],
      "execution_count": null,
      "outputs": []
    },
    {
      "cell_type": "code",
      "metadata": {
        "id": "8DV8dYEUgLJl",
        "colab_type": "code",
        "colab": {}
      },
      "source": [
        "indices = pd.Series(df2.index, index=df2['title']).drop_duplicates()"
      ],
      "execution_count": null,
      "outputs": []
    },
    {
      "cell_type": "code",
      "metadata": {
        "id": "lLiWFxHDgN_r",
        "colab_type": "code",
        "colab": {}
      },
      "source": [
        "def get_recommendations(title, cosine_sim=cosine_sim):\n",
        "    # Get the index of the movie that matches the title\n",
        "    idx = indices[title]\n",
        "\n",
        "    # Get the pairwsie similarity scores of all movies with that movie\n",
        "    sim_scores = list(enumerate(cosine_sim[idx]))\n",
        "\n",
        "    # Sort the movies based on the similarity scores\n",
        "    sim_scores = sorted(sim_scores, key=lambda x: x[1], reverse=True)\n",
        "\n",
        "    # Get the scores of the 10 most similar movies\n",
        "    sim_scores = sim_scores[1:11]\n",
        "\n",
        "    # Get the movie indices\n",
        "    movie_indices = [i[0] for i in sim_scores]\n",
        "\n",
        "    # Return the top 10 most similar movies\n",
        "    return df2['title'].iloc[movie_indices]\n"
      ],
      "execution_count": null,
      "outputs": []
    },
    {
      "cell_type": "code",
      "metadata": {
        "id": "6SAMJL0zgRDt",
        "colab_type": "code",
        "colab": {
          "base_uri": "https://localhost:8080/",
          "height": 204
        },
        "outputId": "90e4f8a4-6cd7-4037-dd14-47b0cdb1f034"
      },
      "source": [
        "get_recommendations('The Dark Knight Rises')"
      ],
      "execution_count": null,
      "outputs": [
        {
          "output_type": "execute_result",
          "data": {
            "text/plain": [
              "65                              The Dark Knight\n",
              "299                              Batman Forever\n",
              "428                              Batman Returns\n",
              "1359                                     Batman\n",
              "3854    Batman: The Dark Knight Returns, Part 2\n",
              "119                               Batman Begins\n",
              "2507                                  Slow Burn\n",
              "9            Batman v Superman: Dawn of Justice\n",
              "1181                                        JFK\n",
              "210                              Batman & Robin\n",
              "Name: title, dtype: object"
            ]
          },
          "metadata": {
            "tags": []
          },
          "execution_count": 30
        }
      ]
    },
    {
      "cell_type": "code",
      "metadata": {
        "id": "ipgtRyrLg5B5",
        "colab_type": "code",
        "colab": {
          "base_uri": "https://localhost:8080/",
          "height": 204
        },
        "outputId": "fa88cbed-cd08-41d1-cc25-6cb6fad25109"
      },
      "source": [
        "get_recommendations('Plastic')"
      ],
      "execution_count": null,
      "outputs": [
        {
          "output_type": "execute_result",
          "data": {
            "text/plain": [
              "2923                          St. Trinian's\n",
              "4268    Lock, Stock and Two Smoking Barrels\n",
              "2027                               I Am Sam\n",
              "16                             The Avengers\n",
              "2212                               Triple 9\n",
              "1339                            Blue Streak\n",
              "4124                     This Thing of Ours\n",
              "39                             TRON: Legacy\n",
              "4391                       The Perfect Host\n",
              "3705                        Moms' Night Out\n",
              "Name: title, dtype: object"
            ]
          },
          "metadata": {
            "tags": []
          },
          "execution_count": 31
        }
      ]
    },
    {
      "cell_type": "code",
      "metadata": {
        "id": "6VAYo8RWg5xk",
        "colab_type": "code",
        "colab": {
          "base_uri": "https://localhost:8080/",
          "height": 204
        },
        "outputId": "5633ceef-ac30-42a3-989e-41814cc9cdc1"
      },
      "source": [
        "get_recommendations('The Avengers')"
      ],
      "execution_count": null,
      "outputs": [
        {
          "output_type": "execute_result",
          "data": {
            "text/plain": [
              "7               Avengers: Age of Ultron\n",
              "3144                            Plastic\n",
              "1715                            Timecop\n",
              "4124                 This Thing of Ours\n",
              "3311              Thank You for Smoking\n",
              "3033                      The Corruptor\n",
              "588     Wall Street: Money Never Sleeps\n",
              "2136         Team America: World Police\n",
              "1468                       The Fountain\n",
              "1286                        Snowpiercer\n",
              "Name: title, dtype: object"
            ]
          },
          "metadata": {
            "tags": []
          },
          "execution_count": 32
        }
      ]
    },
    {
      "cell_type": "code",
      "metadata": {
        "id": "AsP5C87GhLdo",
        "colab_type": "code",
        "colab": {}
      },
      "source": [
        "ratings=pd.read_csv('/content/drive/My Drive/recommender system/ratings_small.csv')"
      ],
      "execution_count": null,
      "outputs": []
    },
    {
      "cell_type": "code",
      "metadata": {
        "id": "w1GoUj-Jhfzb",
        "colab_type": "code",
        "colab": {
          "base_uri": "https://localhost:8080/",
          "height": 204
        },
        "outputId": "0fe9fec8-ecd4-443c-e004-6111febee0f8"
      },
      "source": [
        "ratings.head()"
      ],
      "execution_count": null,
      "outputs": [
        {
          "output_type": "execute_result",
          "data": {
            "text/html": [
              "<div>\n",
              "<style scoped>\n",
              "    .dataframe tbody tr th:only-of-type {\n",
              "        vertical-align: middle;\n",
              "    }\n",
              "\n",
              "    .dataframe tbody tr th {\n",
              "        vertical-align: top;\n",
              "    }\n",
              "\n",
              "    .dataframe thead th {\n",
              "        text-align: right;\n",
              "    }\n",
              "</style>\n",
              "<table border=\"1\" class=\"dataframe\">\n",
              "  <thead>\n",
              "    <tr style=\"text-align: right;\">\n",
              "      <th></th>\n",
              "      <th>userId</th>\n",
              "      <th>movieId</th>\n",
              "      <th>rating</th>\n",
              "      <th>timestamp</th>\n",
              "    </tr>\n",
              "  </thead>\n",
              "  <tbody>\n",
              "    <tr>\n",
              "      <th>0</th>\n",
              "      <td>1</td>\n",
              "      <td>31</td>\n",
              "      <td>2.5</td>\n",
              "      <td>1260759144</td>\n",
              "    </tr>\n",
              "    <tr>\n",
              "      <th>1</th>\n",
              "      <td>1</td>\n",
              "      <td>1029</td>\n",
              "      <td>3.0</td>\n",
              "      <td>1260759179</td>\n",
              "    </tr>\n",
              "    <tr>\n",
              "      <th>2</th>\n",
              "      <td>1</td>\n",
              "      <td>1061</td>\n",
              "      <td>3.0</td>\n",
              "      <td>1260759182</td>\n",
              "    </tr>\n",
              "    <tr>\n",
              "      <th>3</th>\n",
              "      <td>1</td>\n",
              "      <td>1129</td>\n",
              "      <td>2.0</td>\n",
              "      <td>1260759185</td>\n",
              "    </tr>\n",
              "    <tr>\n",
              "      <th>4</th>\n",
              "      <td>1</td>\n",
              "      <td>1172</td>\n",
              "      <td>4.0</td>\n",
              "      <td>1260759205</td>\n",
              "    </tr>\n",
              "  </tbody>\n",
              "</table>\n",
              "</div>"
            ],
            "text/plain": [
              "   userId  movieId  rating   timestamp\n",
              "0       1       31     2.5  1260759144\n",
              "1       1     1029     3.0  1260759179\n",
              "2       1     1061     3.0  1260759182\n",
              "3       1     1129     2.0  1260759185\n",
              "4       1     1172     4.0  1260759205"
            ]
          },
          "metadata": {
            "tags": []
          },
          "execution_count": 36
        }
      ]
    },
    {
      "cell_type": "code",
      "metadata": {
        "id": "ou6yaSoyecJd",
        "colab_type": "code",
        "colab": {
          "base_uri": "https://localhost:8080/",
          "height": 34
        },
        "outputId": "eda6d7b0-6947-4953-8f8a-8e80c0d0a9da"
      },
      "source": [
        "ratings_dict = {'itemID': list(ratings.movieId),\n",
        "                'userID': list(ratings.userId),\n",
        "                'rating': list(ratings.rating)}\n",
        "\n",
        "df = pd.DataFrame(ratings_dict)\n",
        "df.shape"
      ],
      "execution_count": null,
      "outputs": [
        {
          "output_type": "execute_result",
          "data": {
            "text/plain": [
              "(100004, 3)"
            ]
          },
          "metadata": {
            "tags": []
          },
          "execution_count": 47
        }
      ]
    },
    {
      "cell_type": "code",
      "metadata": {
        "id": "89PJH4KghajN",
        "colab_type": "code",
        "colab": {}
      },
      "source": [
        "\n",
        "from surprise import Reader, Dataset, SVD\n",
        "from surprise.model_selection import cross_validate\n",
        "reader = Reader()\n",
        "from surprise.model_selection import train_test_split\n",
        "from surprise import accuracy\n",
        "from collections import defaultdict "
      ],
      "execution_count": null,
      "outputs": []
    },
    {
      "cell_type": "code",
      "metadata": {
        "id": "NGNmeKowUlUP",
        "colab_type": "code",
        "colab": {}
      },
      "source": [
        "reader = Reader(line_format='user item rating timestamp', sep='\\t')\n",
        "\n",
        "reader = Reader(rating_scale=(0.5, 5.0))"
      ],
      "execution_count": null,
      "outputs": []
    },
    {
      "cell_type": "code",
      "metadata": {
        "id": "vhc4j4Wvhme2",
        "colab_type": "code",
        "colab": {}
      },
      "source": [
        "data = Dataset.load_from_df(df[['userID', 'itemID', 'rating']], reader)\n"
      ],
      "execution_count": null,
      "outputs": []
    },
    {
      "cell_type": "code",
      "metadata": {
        "id": "67KfO_U4h7kR",
        "colab_type": "code",
        "colab": {
          "base_uri": "https://localhost:8080/",
          "height": 282
        },
        "outputId": "2c1792aa-ffc1-4a3e-c19f-9ad5529e27eb"
      },
      "source": [
        "ratingss = pd.DataFrame(df.groupby('userID')['rating'].mean().sort_values(ascending=False))\n",
        "ratingss.head()\n",
        "\n",
        "plt.figure(figsize=(10,4))\n",
        "ratingss['rating'].hist(bins=70)\n",
        "                        "
      ],
      "execution_count": null,
      "outputs": [
        {
          "output_type": "execute_result",
          "data": {
            "text/plain": [
              "<matplotlib.axes._subplots.AxesSubplot at 0x7ff635dd7cf8>"
            ]
          },
          "metadata": {
            "tags": []
          },
          "execution_count": 50
        },
        {
          "output_type": "display_data",
          "data": {
            "image/png": "[encoded data removed]",
            "text/plain": [
              "<Figure size 720x288 with 1 Axes>"
            ]
          },
          "metadata": {
            "tags": [],
            "needs_background": "light"
          }
        }
      ]
    },
    {
      "cell_type": "code",
      "metadata": {
        "id": "o_qiyhCoh_o6",
        "colab_type": "code",
        "colab": {
          "base_uri": "https://localhost:8080/",
          "height": 282
        },
        "outputId": "094a857c-d9bd-403e-b1ee-eb6d90e90e65"
      },
      "source": [
        "move = pd.DataFrame(df.groupby('itemID')['rating'].mean().sort_values(ascending=False))\n",
        "move.head()\n",
        "plt.figure(figsize=(10,4))\n",
        "move['rating'].hist(bins=70)"
      ],
      "execution_count": null,
      "outputs": [
        {
          "output_type": "execute_result",
          "data": {
            "text/plain": [
              "<matplotlib.axes._subplots.AxesSubplot at 0x7ff63148a898>"
            ]
          },
          "metadata": {
            "tags": []
          },
          "execution_count": 53
        },
        {
          "output_type": "display_data",
          "data": {
            "image/png": "[encoded data removed]",
            "text/plain": [
              "<Figure size 720x288 with 1 Axes>"
            ]
          },
          "metadata": {
            "tags": [],
            "needs_background": "light"
          }
        }
      ]
    },
    {
      "cell_type": "code",
      "metadata": {
        "id": "3Dend9gIgOCr",
        "colab_type": "code",
        "colab": {
          "base_uri": "https://localhost:8080/",
          "height": 282
        },
        "outputId": "97338699-8ff5-4a0f-edc5-f68a31d46a87"
      },
      "source": [
        "user = pd.DataFrame(df.groupby('userID')['rating'].mean().sort_values(ascending=False))\n",
        "user.head()\n",
        "plt.figure(figsize=(10,4))\n",
        "user['rating'].hist(bins=70)"
      ],
      "execution_count": null,
      "outputs": [
        {
          "output_type": "execute_result",
          "data": {
            "text/plain": [
              "<matplotlib.axes._subplots.AxesSubplot at 0x7ff63148c0b8>"
            ]
          },
          "metadata": {
            "tags": []
          },
          "execution_count": 56
        },
        {
          "output_type": "display_data",
          "data": {
            "image/png": "[encoded data removed]",
            "text/plain": [
              "<Figure size 720x288 with 1 Axes>"
            ]
          },
          "metadata": {
            "tags": [],
            "needs_background": "light"
          }
        }
      ]
    },
    {
      "cell_type": "code",
      "metadata": {
        "id": "vye-u-aagBaK",
        "colab_type": "code",
        "colab": {
          "base_uri": "https://localhost:8080/",
          "height": 359
        },
        "outputId": "264f3512-832d-4275-803b-f969c47e7840"
      },
      "source": [
        "df.groupby('itemID')['rating'].count().reset_index().sort_values('rating', ascending=False)[:10]"
      ],
      "execution_count": null,
      "outputs": [
        {
          "output_type": "execute_result",
          "data": {
            "text/html": [
              "<div>\n",
              "<style scoped>\n",
              "    .dataframe tbody tr th:only-of-type {\n",
              "        vertical-align: middle;\n",
              "    }\n",
              "\n",
              "    .dataframe tbody tr th {\n",
              "        vertical-align: top;\n",
              "    }\n",
              "\n",
              "    .dataframe thead th {\n",
              "        text-align: right;\n",
              "    }\n",
              "</style>\n",
              "<table border=\"1\" class=\"dataframe\">\n",
              "  <thead>\n",
              "    <tr style=\"text-align: right;\">\n",
              "      <th></th>\n",
              "      <th>itemID</th>\n",
              "      <th>rating</th>\n",
              "    </tr>\n",
              "  </thead>\n",
              "  <tbody>\n",
              "    <tr>\n",
              "      <th>321</th>\n",
              "      <td>356</td>\n",
              "      <td>341</td>\n",
              "    </tr>\n",
              "    <tr>\n",
              "      <th>266</th>\n",
              "      <td>296</td>\n",
              "      <td>324</td>\n",
              "    </tr>\n",
              "    <tr>\n",
              "      <th>284</th>\n",
              "      <td>318</td>\n",
              "      <td>311</td>\n",
              "    </tr>\n",
              "    <tr>\n",
              "      <th>525</th>\n",
              "      <td>593</td>\n",
              "      <td>304</td>\n",
              "    </tr>\n",
              "    <tr>\n",
              "      <th>232</th>\n",
              "      <td>260</td>\n",
              "      <td>291</td>\n",
              "    </tr>\n",
              "    <tr>\n",
              "      <th>427</th>\n",
              "      <td>480</td>\n",
              "      <td>274</td>\n",
              "    </tr>\n",
              "    <tr>\n",
              "      <th>2062</th>\n",
              "      <td>2571</td>\n",
              "      <td>259</td>\n",
              "    </tr>\n",
              "    <tr>\n",
              "      <th>0</th>\n",
              "      <td>1</td>\n",
              "      <td>247</td>\n",
              "    </tr>\n",
              "    <tr>\n",
              "      <th>472</th>\n",
              "      <td>527</td>\n",
              "      <td>244</td>\n",
              "    </tr>\n",
              "    <tr>\n",
              "      <th>522</th>\n",
              "      <td>589</td>\n",
              "      <td>237</td>\n",
              "    </tr>\n",
              "  </tbody>\n",
              "</table>\n",
              "</div>"
            ],
            "text/plain": [
              "      itemID  rating\n",
              "321      356     341\n",
              "266      296     324\n",
              "284      318     311\n",
              "525      593     304\n",
              "232      260     291\n",
              "427      480     274\n",
              "2062    2571     259\n",
              "0          1     247\n",
              "472      527     244\n",
              "522      589     237"
            ]
          },
          "metadata": {
            "tags": []
          },
          "execution_count": 55
        }
      ]
    },
    {
      "cell_type": "code",
      "metadata": {
        "id": "XuaP9m4liDj5",
        "colab_type": "code",
        "colab": {
          "base_uri": "https://localhost:8080/",
          "height": 187
        },
        "outputId": "f28623f0-03d4-47f0-9f01-ddb722efc27a"
      },
      "source": [
        "data = Dataset.load_from_df(df[['userID', 'itemID', 'rating']], reader)\n",
        "benchmark = []\n",
        "# Iterate over all algorithms\n",
        "for algorithm in [SVD(),NMF(), NormalPredictor(), KNNBasic()]:\n",
        "    # Perform cross validation\n",
        "    results = cross_validate(algorithm, data, measures=['RMSE'], cv=5, verbose=False)\n",
        "    # Get results & append algorithm name\n",
        "    tmp = pd.DataFrame.from_dict(results).mean(axis=0)\n",
        "    tmp = tmp.append(pd.Series([str(algorithm).split(' ')[0].split('.')[-1]],index=['Algorithm']))\n",
        "    benchmark.append(tmp)"
      ],
      "execution_count": null,
      "outputs": [
        {
          "output_type": "stream",
          "text": [
            "Computing the msd similarity matrix...\n",
            "Done computing similarity matrix.\n",
            "Computing the msd similarity matrix...\n",
            "Done computing similarity matrix.\n",
            "Computing the msd similarity matrix...\n",
            "Done computing similarity matrix.\n",
            "Computing the msd similarity matrix...\n",
            "Done computing similarity matrix.\n",
            "Computing the msd similarity matrix...\n",
            "Done computing similarity matrix.\n"
          ],
          "name": "stdout"
        }
      ]
    },
    {
      "cell_type": "code",
      "metadata": {
        "id": "8rUw26CViGx8",
        "colab_type": "code",
        "colab": {
          "base_uri": "https://localhost:8080/",
          "height": 204
        },
        "outputId": "368372be-5fa3-46c5-c5f0-5901ffc77e1b"
      },
      "source": [
        "surprise_results = pd.DataFrame(benchmark).set_index('Algorithm').sort_values('test_rmse')\n",
        "surprise_results"
      ],
      "execution_count": null,
      "outputs": [
        {
          "output_type": "execute_result",
          "data": {
            "text/html": [
              "<div>\n",
              "<style scoped>\n",
              "    .dataframe tbody tr th:only-of-type {\n",
              "        vertical-align: middle;\n",
              "    }\n",
              "\n",
              "    .dataframe tbody tr th {\n",
              "        vertical-align: top;\n",
              "    }\n",
              "\n",
              "    .dataframe thead th {\n",
              "        text-align: right;\n",
              "    }\n",
              "</style>\n",
              "<table border=\"1\" class=\"dataframe\">\n",
              "  <thead>\n",
              "    <tr style=\"text-align: right;\">\n",
              "      <th></th>\n",
              "      <th>test_rmse</th>\n",
              "      <th>fit_time</th>\n",
              "      <th>test_time</th>\n",
              "    </tr>\n",
              "    <tr>\n",
              "      <th>Algorithm</th>\n",
              "      <th></th>\n",
              "      <th></th>\n",
              "      <th></th>\n",
              "    </tr>\n",
              "  </thead>\n",
              "  <tbody>\n",
              "    <tr>\n",
              "      <th>SVD</th>\n",
              "      <td>0.896379</td>\n",
              "      <td>4.891290</td>\n",
              "      <td>0.155550</td>\n",
              "    </tr>\n",
              "    <tr>\n",
              "      <th>NMF</th>\n",
              "      <td>0.946462</td>\n",
              "      <td>5.924816</td>\n",
              "      <td>0.169364</td>\n",
              "    </tr>\n",
              "    <tr>\n",
              "      <th>KNNBasic</th>\n",
              "      <td>0.969044</td>\n",
              "      <td>0.139568</td>\n",
              "      <td>1.677745</td>\n",
              "    </tr>\n",
              "    <tr>\n",
              "      <th>NormalPredictor</th>\n",
              "      <td>1.441359</td>\n",
              "      <td>0.137797</td>\n",
              "      <td>0.167321</td>\n",
              "    </tr>\n",
              "  </tbody>\n",
              "</table>\n",
              "</div>"
            ],
            "text/plain": [
              "                 test_rmse  fit_time  test_time\n",
              "Algorithm                                      \n",
              "SVD               0.896379  4.891290   0.155550\n",
              "NMF               0.946462  5.924816   0.169364\n",
              "KNNBasic          0.969044  0.139568   1.677745\n",
              "NormalPredictor   1.441359  0.137797   0.167321"
            ]
          },
          "metadata": {
            "tags": []
          },
          "execution_count": 58
        }
      ]
    },
    {
      "cell_type": "code",
      "metadata": {
        "id": "eptGwH5niKcu",
        "colab_type": "code",
        "colab": {
          "base_uri": "https://localhost:8080/",
          "height": 51
        },
        "outputId": "12c45a82-6b51-46f7-95fe-bbe2c9e193da"
      },
      "source": [
        "\n",
        "param_grid = {'n_factors': [25, 30, 35,40], 'n_epochs': [15, 20, 25], 'lr_all': [0.001, 0.003, 0.005, 0.008],\n",
        "              'reg_all': [0.08, 0.1, 0.15]}\n",
        "gs = GridSearchCV(SVD, param_grid, measures=['rmse', 'mae'], cv=3)\n",
        "gs.fit(data)\n",
        "algo = gs.best_estimator['rmse']\n",
        "print(gs.best_score['rmse'])\n",
        "print(gs.best_params['rmse'])\n",
        "\n",
        "#Assigning values\n",
        "t = gs.best_params\n",
        "factors = t['rmse']['n_factors']\n",
        "epochs = t['rmse']['n_epochs']\n",
        "lr_value = t['rmse']['lr_all']\n",
        "reg_value = t['rmse']['reg_all']"
      ],
      "execution_count": null,
      "outputs": [
        {
          "output_type": "stream",
          "text": [
            "0.8898527843021286\n",
            "{'n_factors': 35, 'n_epochs': 25, 'lr_all': 0.008, 'reg_all': 0.08}\n"
          ],
          "name": "stdout"
        }
      ]
    },
    {
      "cell_type": "code",
      "metadata": {
        "id": "voOyOIU3iOnu",
        "colab_type": "code",
        "colab": {
          "base_uri": "https://localhost:8080/",
          "height": 51
        },
        "outputId": "059b98ec-9ff1-4b54-9db0-6fb4dd082332"
      },
      "source": [
        "trainset, testset = train_test_split(data, test_size=.25)\n",
        "svd= SVD(n_factors=factors, n_epochs=epochs, lr_all=lr_value, reg_all=reg_value)\n",
        "svd.fit(trainset)\n",
        "predictions = svd.test(testset)\n",
        "accuracy.rmse(predictions)"
      ],
      "execution_count": null,
      "outputs": [
        {
          "output_type": "stream",
          "text": [
            "RMSE: 0.8835\n"
          ],
          "name": "stdout"
        },
        {
          "output_type": "execute_result",
          "data": {
            "text/plain": [
              "0.883469266587668"
            ]
          },
          "metadata": {
            "tags": []
          },
          "execution_count": 60
        }
      ]
    },
    {
      "cell_type": "code",
      "metadata": {
        "id": "a0lfETRyiUM8",
        "colab_type": "code",
        "colab": {
          "base_uri": "https://localhost:8080/",
          "height": 34
        },
        "outputId": "15ee4495-088d-4f43-9d89-aa9c58c12637"
      },
      "source": [
        "trainset = data.build_full_trainset()\n",
        "svd.fit(trainset)"
      ],
      "execution_count": null,
      "outputs": [
        {
          "output_type": "execute_result",
          "data": {
            "text/plain": [
              "<surprise.prediction_algorithms.matrix_factorization.SVD at 0x7ff635f10a58>"
            ]
          },
          "metadata": {
            "tags": []
          },
          "execution_count": 62
        }
      ]
    },
    {
      "cell_type": "code",
      "metadata": {
        "id": "y9rCNZEmim1T",
        "colab_type": "code",
        "colab": {}
      },
      "source": [
        "\n",
        "def get_Iu(uid):\n",
        "    \"\"\" \n",
        "    args: \n",
        "      uid: the id of the user\n",
        "    returns: \n",
        "      the number of items rated by the user\n",
        "    \"\"\"\n",
        "    try:\n",
        "        return len(trainset.ur[trainset.to_inner_uid(uid)])\n",
        "    except ValueError: # user was not part of the trainset\n",
        "        return 0\n",
        "    \n",
        "def get_Ui(iid):\n",
        "    \"\"\" \n",
        "    args:\n",
        "      iid: the raw id of the item\n",
        "    returns:\n",
        "      the number of users that have rated the item.\n",
        "    \"\"\"\n",
        "    try: \n",
        "        return len(trainset.ir[trainset.to_inner_iid(iid)])\n",
        "    except ValueError:\n",
        "        return 0\n",
        "\n",
        "    \n",
        "df_predictions = pd.DataFrame(predictions, columns=['uid', 'iid', 'rui', 'est', 'details'])\n",
        "df_predictions['Iu'] = df_predictions.uid.apply(get_Iu)\n",
        "df_predictions['Ui'] = df_predictions.iid.apply(get_Ui)\n",
        "df_predictions['err'] = abs(df_predictions.est - df_predictions.rui)"
      ],
      "execution_count": null,
      "outputs": []
    },
    {
      "cell_type": "code",
      "metadata": {
        "id": "J3Qk3ODfDKMd",
        "colab_type": "code",
        "colab": {
          "base_uri": "https://localhost:8080/",
          "height": 204
        },
        "outputId": "5b8743b0-da27-443d-8c60-70d4aa0cbca0"
      },
      "source": [
        "df_predictions.head()"
      ],
      "execution_count": null,
      "outputs": [
        {
          "output_type": "execute_result",
          "data": {
            "text/html": [
              "<div>\n",
              "<style scoped>\n",
              "    .dataframe tbody tr th:only-of-type {\n",
              "        vertical-align: middle;\n",
              "    }\n",
              "\n",
              "    .dataframe tbody tr th {\n",
              "        vertical-align: top;\n",
              "    }\n",
              "\n",
              "    .dataframe thead th {\n",
              "        text-align: right;\n",
              "    }\n",
              "</style>\n",
              "<table border=\"1\" class=\"dataframe\">\n",
              "  <thead>\n",
              "    <tr style=\"text-align: right;\">\n",
              "      <th></th>\n",
              "      <th>uid</th>\n",
              "      <th>iid</th>\n",
              "      <th>rui</th>\n",
              "      <th>est</th>\n",
              "      <th>details</th>\n",
              "      <th>Iu</th>\n",
              "      <th>Ui</th>\n",
              "      <th>err</th>\n",
              "    </tr>\n",
              "  </thead>\n",
              "  <tbody>\n",
              "    <tr>\n",
              "      <th>0</th>\n",
              "      <td>596</td>\n",
              "      <td>4033</td>\n",
              "      <td>3.5</td>\n",
              "      <td>3.886064</td>\n",
              "      <td>{'was_impossible': False}</td>\n",
              "      <td>487</td>\n",
              "      <td>18</td>\n",
              "      <td>0.386064</td>\n",
              "    </tr>\n",
              "    <tr>\n",
              "      <th>1</th>\n",
              "      <td>54</td>\n",
              "      <td>26160</td>\n",
              "      <td>3.5</td>\n",
              "      <td>3.438579</td>\n",
              "      <td>{'was_impossible': False}</td>\n",
              "      <td>44</td>\n",
              "      <td>1</td>\n",
              "      <td>0.061421</td>\n",
              "    </tr>\n",
              "    <tr>\n",
              "      <th>2</th>\n",
              "      <td>195</td>\n",
              "      <td>2202</td>\n",
              "      <td>3.0</td>\n",
              "      <td>3.441408</td>\n",
              "      <td>{'was_impossible': False}</td>\n",
              "      <td>485</td>\n",
              "      <td>11</td>\n",
              "      <td>0.441408</td>\n",
              "    </tr>\n",
              "    <tr>\n",
              "      <th>3</th>\n",
              "      <td>382</td>\n",
              "      <td>150</td>\n",
              "      <td>3.0</td>\n",
              "      <td>3.464294</td>\n",
              "      <td>{'was_impossible': False}</td>\n",
              "      <td>314</td>\n",
              "      <td>200</td>\n",
              "      <td>0.464294</td>\n",
              "    </tr>\n",
              "    <tr>\n",
              "      <th>4</th>\n",
              "      <td>294</td>\n",
              "      <td>193</td>\n",
              "      <td>3.0</td>\n",
              "      <td>2.487943</td>\n",
              "      <td>{'was_impossible': False}</td>\n",
              "      <td>947</td>\n",
              "      <td>35</td>\n",
              "      <td>0.512057</td>\n",
              "    </tr>\n",
              "  </tbody>\n",
              "</table>\n",
              "</div>"
            ],
            "text/plain": [
              "   uid    iid  rui       est                    details   Iu   Ui       err\n",
              "0  596   4033  3.5  3.886064  {'was_impossible': False}  487   18  0.386064\n",
              "1   54  26160  3.5  3.438579  {'was_impossible': False}   44    1  0.061421\n",
              "2  195   2202  3.0  3.441408  {'was_impossible': False}  485   11  0.441408\n",
              "3  382    150  3.0  3.464294  {'was_impossible': False}  314  200  0.464294\n",
              "4  294    193  3.0  2.487943  {'was_impossible': False}  947   35  0.512057"
            ]
          },
          "metadata": {
            "tags": []
          },
          "execution_count": 65
        }
      ]
    },
    {
      "cell_type": "code",
      "metadata": {
        "id": "TDSAV1zwDND6",
        "colab_type": "code",
        "colab": {}
      },
      "source": [
        "best_predictions = df_predictions.sort_values(by='err')[:10]\n",
        "worst_predictions = df_predictions.sort_values(by='err')[-10:]"
      ],
      "execution_count": null,
      "outputs": []
    },
    {
      "cell_type": "code",
      "metadata": {
        "id": "xrDI_1quD3LX",
        "colab_type": "code",
        "colab": {
          "base_uri": "https://localhost:8080/",
          "height": 359
        },
        "outputId": "b6893433-91ed-4480-de77-837b097764e9"
      },
      "source": [
        "best_predictions"
      ],
      "execution_count": null,
      "outputs": [
        {
          "output_type": "execute_result",
          "data": {
            "text/html": [
              "<div>\n",
              "<style scoped>\n",
              "    .dataframe tbody tr th:only-of-type {\n",
              "        vertical-align: middle;\n",
              "    }\n",
              "\n",
              "    .dataframe tbody tr th {\n",
              "        vertical-align: top;\n",
              "    }\n",
              "\n",
              "    .dataframe thead th {\n",
              "        text-align: right;\n",
              "    }\n",
              "</style>\n",
              "<table border=\"1\" class=\"dataframe\">\n",
              "  <thead>\n",
              "    <tr style=\"text-align: right;\">\n",
              "      <th></th>\n",
              "      <th>uid</th>\n",
              "      <th>iid</th>\n",
              "      <th>rui</th>\n",
              "      <th>est</th>\n",
              "      <th>details</th>\n",
              "      <th>Iu</th>\n",
              "      <th>Ui</th>\n",
              "      <th>err</th>\n",
              "    </tr>\n",
              "  </thead>\n",
              "  <tbody>\n",
              "    <tr>\n",
              "      <th>18101</th>\n",
              "      <td>46</td>\n",
              "      <td>7153</td>\n",
              "      <td>5.0</td>\n",
              "      <td>5.0</td>\n",
              "      <td>{'was_impossible': False}</td>\n",
              "      <td>39</td>\n",
              "      <td>176</td>\n",
              "      <td>0.0</td>\n",
              "    </tr>\n",
              "    <tr>\n",
              "      <th>22523</th>\n",
              "      <td>242</td>\n",
              "      <td>913</td>\n",
              "      <td>5.0</td>\n",
              "      <td>5.0</td>\n",
              "      <td>{'was_impossible': False}</td>\n",
              "      <td>399</td>\n",
              "      <td>62</td>\n",
              "      <td>0.0</td>\n",
              "    </tr>\n",
              "    <tr>\n",
              "      <th>1002</th>\n",
              "      <td>298</td>\n",
              "      <td>31658</td>\n",
              "      <td>5.0</td>\n",
              "      <td>5.0</td>\n",
              "      <td>{'was_impossible': False}</td>\n",
              "      <td>75</td>\n",
              "      <td>27</td>\n",
              "      <td>0.0</td>\n",
              "    </tr>\n",
              "    <tr>\n",
              "      <th>22522</th>\n",
              "      <td>46</td>\n",
              "      <td>49530</td>\n",
              "      <td>5.0</td>\n",
              "      <td>5.0</td>\n",
              "      <td>{'was_impossible': False}</td>\n",
              "      <td>39</td>\n",
              "      <td>37</td>\n",
              "      <td>0.0</td>\n",
              "    </tr>\n",
              "    <tr>\n",
              "      <th>21667</th>\n",
              "      <td>298</td>\n",
              "      <td>318</td>\n",
              "      <td>5.0</td>\n",
              "      <td>5.0</td>\n",
              "      <td>{'was_impossible': False}</td>\n",
              "      <td>75</td>\n",
              "      <td>311</td>\n",
              "      <td>0.0</td>\n",
              "    </tr>\n",
              "    <tr>\n",
              "      <th>8493</th>\n",
              "      <td>287</td>\n",
              "      <td>7153</td>\n",
              "      <td>5.0</td>\n",
              "      <td>5.0</td>\n",
              "      <td>{'was_impossible': False}</td>\n",
              "      <td>254</td>\n",
              "      <td>176</td>\n",
              "      <td>0.0</td>\n",
              "    </tr>\n",
              "    <tr>\n",
              "      <th>8685</th>\n",
              "      <td>290</td>\n",
              "      <td>2019</td>\n",
              "      <td>5.0</td>\n",
              "      <td>5.0</td>\n",
              "      <td>{'was_impossible': False}</td>\n",
              "      <td>67</td>\n",
              "      <td>54</td>\n",
              "      <td>0.0</td>\n",
              "    </tr>\n",
              "    <tr>\n",
              "      <th>24950</th>\n",
              "      <td>91</td>\n",
              "      <td>318</td>\n",
              "      <td>5.0</td>\n",
              "      <td>5.0</td>\n",
              "      <td>{'was_impossible': False}</td>\n",
              "      <td>150</td>\n",
              "      <td>311</td>\n",
              "      <td>0.0</td>\n",
              "    </tr>\n",
              "    <tr>\n",
              "      <th>19674</th>\n",
              "      <td>46</td>\n",
              "      <td>5952</td>\n",
              "      <td>5.0</td>\n",
              "      <td>5.0</td>\n",
              "      <td>{'was_impossible': False}</td>\n",
              "      <td>39</td>\n",
              "      <td>188</td>\n",
              "      <td>0.0</td>\n",
              "    </tr>\n",
              "    <tr>\n",
              "      <th>15035</th>\n",
              "      <td>46</td>\n",
              "      <td>4993</td>\n",
              "      <td>5.0</td>\n",
              "      <td>5.0</td>\n",
              "      <td>{'was_impossible': False}</td>\n",
              "      <td>39</td>\n",
              "      <td>200</td>\n",
              "      <td>0.0</td>\n",
              "    </tr>\n",
              "  </tbody>\n",
              "</table>\n",
              "</div>"
            ],
            "text/plain": [
              "       uid    iid  rui  est                    details   Iu   Ui  err\n",
              "18101   46   7153  5.0  5.0  {'was_impossible': False}   39  176  0.0\n",
              "22523  242    913  5.0  5.0  {'was_impossible': False}  399   62  0.0\n",
              "1002   298  31658  5.0  5.0  {'was_impossible': False}   75   27  0.0\n",
              "22522   46  49530  5.0  5.0  {'was_impossible': False}   39   37  0.0\n",
              "21667  298    318  5.0  5.0  {'was_impossible': False}   75  311  0.0\n",
              "8493   287   7153  5.0  5.0  {'was_impossible': False}  254  176  0.0\n",
              "8685   290   2019  5.0  5.0  {'was_impossible': False}   67   54  0.0\n",
              "24950   91    318  5.0  5.0  {'was_impossible': False}  150  311  0.0\n",
              "19674   46   5952  5.0  5.0  {'was_impossible': False}   39  188  0.0\n",
              "15035   46   4993  5.0  5.0  {'was_impossible': False}   39  200  0.0"
            ]
          },
          "metadata": {
            "tags": []
          },
          "execution_count": 67
        }
      ]
    },
    {
      "cell_type": "code",
      "metadata": {
        "id": "XAo3XVbFD6UJ",
        "colab_type": "code",
        "colab": {
          "base_uri": "https://localhost:8080/",
          "height": 359
        },
        "outputId": "2c2c0cbe-9080-40c1-fdef-b8eaf7293de3"
      },
      "source": [
        "worst_predictions"
      ],
      "execution_count": null,
      "outputs": [
        {
          "output_type": "execute_result",
          "data": {
            "text/html": [
              "<div>\n",
              "<style scoped>\n",
              "    .dataframe tbody tr th:only-of-type {\n",
              "        vertical-align: middle;\n",
              "    }\n",
              "\n",
              "    .dataframe tbody tr th {\n",
              "        vertical-align: top;\n",
              "    }\n",
              "\n",
              "    .dataframe thead th {\n",
              "        text-align: right;\n",
              "    }\n",
              "</style>\n",
              "<table border=\"1\" class=\"dataframe\">\n",
              "  <thead>\n",
              "    <tr style=\"text-align: right;\">\n",
              "      <th></th>\n",
              "      <th>uid</th>\n",
              "      <th>iid</th>\n",
              "      <th>rui</th>\n",
              "      <th>est</th>\n",
              "      <th>details</th>\n",
              "      <th>Iu</th>\n",
              "      <th>Ui</th>\n",
              "      <th>err</th>\n",
              "    </tr>\n",
              "  </thead>\n",
              "  <tbody>\n",
              "    <tr>\n",
              "      <th>1800</th>\n",
              "      <td>272</td>\n",
              "      <td>119145</td>\n",
              "      <td>0.5</td>\n",
              "      <td>4.030323</td>\n",
              "      <td>{'was_impossible': False}</td>\n",
              "      <td>39</td>\n",
              "      <td>13</td>\n",
              "      <td>3.530323</td>\n",
              "    </tr>\n",
              "    <tr>\n",
              "      <th>11325</th>\n",
              "      <td>156</td>\n",
              "      <td>1722</td>\n",
              "      <td>0.5</td>\n",
              "      <td>4.037143</td>\n",
              "      <td>{'was_impossible': False}</td>\n",
              "      <td>45</td>\n",
              "      <td>49</td>\n",
              "      <td>3.537143</td>\n",
              "    </tr>\n",
              "    <tr>\n",
              "      <th>3181</th>\n",
              "      <td>431</td>\n",
              "      <td>920</td>\n",
              "      <td>1.0</td>\n",
              "      <td>4.538012</td>\n",
              "      <td>{'was_impossible': False}</td>\n",
              "      <td>268</td>\n",
              "      <td>68</td>\n",
              "      <td>3.538012</td>\n",
              "    </tr>\n",
              "    <tr>\n",
              "      <th>17239</th>\n",
              "      <td>595</td>\n",
              "      <td>1289</td>\n",
              "      <td>1.0</td>\n",
              "      <td>4.557328</td>\n",
              "      <td>{'was_impossible': False}</td>\n",
              "      <td>163</td>\n",
              "      <td>13</td>\n",
              "      <td>3.557328</td>\n",
              "    </tr>\n",
              "    <tr>\n",
              "      <th>16375</th>\n",
              "      <td>568</td>\n",
              "      <td>356</td>\n",
              "      <td>1.0</td>\n",
              "      <td>4.586593</td>\n",
              "      <td>{'was_impossible': False}</td>\n",
              "      <td>37</td>\n",
              "      <td>341</td>\n",
              "      <td>3.586593</td>\n",
              "    </tr>\n",
              "    <tr>\n",
              "      <th>674</th>\n",
              "      <td>646</td>\n",
              "      <td>955</td>\n",
              "      <td>1.0</td>\n",
              "      <td>4.660293</td>\n",
              "      <td>{'was_impossible': False}</td>\n",
              "      <td>169</td>\n",
              "      <td>30</td>\n",
              "      <td>3.660293</td>\n",
              "    </tr>\n",
              "    <tr>\n",
              "      <th>2140</th>\n",
              "      <td>198</td>\n",
              "      <td>2973</td>\n",
              "      <td>0.5</td>\n",
              "      <td>4.208076</td>\n",
              "      <td>{'was_impossible': False}</td>\n",
              "      <td>75</td>\n",
              "      <td>28</td>\n",
              "      <td>3.708076</td>\n",
              "    </tr>\n",
              "    <tr>\n",
              "      <th>24933</th>\n",
              "      <td>480</td>\n",
              "      <td>1028</td>\n",
              "      <td>0.5</td>\n",
              "      <td>4.238428</td>\n",
              "      <td>{'was_impossible': False}</td>\n",
              "      <td>378</td>\n",
              "      <td>78</td>\n",
              "      <td>3.738428</td>\n",
              "    </tr>\n",
              "    <tr>\n",
              "      <th>1547</th>\n",
              "      <td>156</td>\n",
              "      <td>77561</td>\n",
              "      <td>0.5</td>\n",
              "      <td>4.297366</td>\n",
              "      <td>{'was_impossible': False}</td>\n",
              "      <td>45</td>\n",
              "      <td>29</td>\n",
              "      <td>3.797366</td>\n",
              "    </tr>\n",
              "    <tr>\n",
              "      <th>356</th>\n",
              "      <td>546</td>\n",
              "      <td>1235</td>\n",
              "      <td>0.5</td>\n",
              "      <td>4.629982</td>\n",
              "      <td>{'was_impossible': False}</td>\n",
              "      <td>65</td>\n",
              "      <td>44</td>\n",
              "      <td>4.129982</td>\n",
              "    </tr>\n",
              "  </tbody>\n",
              "</table>\n",
              "</div>"
            ],
            "text/plain": [
              "       uid     iid  rui  ...   Iu   Ui       err\n",
              "1800   272  119145  0.5  ...   39   13  3.530323\n",
              "11325  156    1722  0.5  ...   45   49  3.537143\n",
              "3181   431     920  1.0  ...  268   68  3.538012\n",
              "17239  595    1289  1.0  ...  163   13  3.557328\n",
              "16375  568     356  1.0  ...   37  341  3.586593\n",
              "674    646     955  1.0  ...  169   30  3.660293\n",
              "2140   198    2973  0.5  ...   75   28  3.708076\n",
              "24933  480    1028  0.5  ...  378   78  3.738428\n",
              "1547   156   77561  0.5  ...   45   29  3.797366\n",
              "356    546    1235  0.5  ...   65   44  4.129982\n",
              "\n",
              "[10 rows x 8 columns]"
            ]
          },
          "metadata": {
            "tags": []
          },
          "execution_count": 68
        }
      ]
    },
    {
      "cell_type": "code",
      "metadata": {
        "id": "vR69bgDoX0UH",
        "colab_type": "code",
        "colab": {
          "base_uri": "https://localhost:8080/",
          "height": 170
        },
        "outputId": "057fc1e1-4732-4f77-d968-1e930da54b91"
      },
      "source": [
        "df_predictions.loc[df_predictions['iid'] == 1235]['rui'].describe()\n",
        "\n",
        "\n",
        "\n",
        "\n"
      ],
      "execution_count": null,
      "outputs": [
        {
          "output_type": "execute_result",
          "data": {
            "text/plain": [
              "count    12.000000\n",
              "mean      3.875000\n",
              "std       1.350505\n",
              "min       0.500000\n",
              "25%       4.000000\n",
              "50%       4.000000\n",
              "75%       5.000000\n",
              "max       5.000000\n",
              "Name: rui, dtype: float64"
            ]
          },
          "metadata": {
            "tags": []
          },
          "execution_count": 69
        }
      ]
    },
    {
      "cell_type": "code",
      "metadata": {
        "id": "U2mhdhdAa4NB",
        "colab_type": "code",
        "colab": {
          "base_uri": "https://localhost:8080/",
          "height": 418
        },
        "outputId": "96e03352-d5ef-4337-a5d8-e6c8085c75ef"
      },
      "source": [
        "%matplotlib inline\n",
        "\n",
        "temp = df_predictions.loc[df_predictions['iid'] == 1235]['rui']\n",
        "s=pd.Series(temp)\n",
        "d=s.to_frame()\n",
        "\n",
        "d.info()\n",
        "\n",
        "plt.figure(figsize=(10,4))\n",
        "d['rui'].hist(bins=70)\n",
        "\n",
        "\n",
        "\n",
        "\n"
      ],
      "execution_count": null,
      "outputs": [
        {
          "output_type": "stream",
          "text": [
            "<class 'pandas.core.frame.DataFrame'>\n",
            "Int64Index: 12 entries, 356 to 24722\n",
            "Data columns (total 1 columns):\n",
            " #   Column  Non-Null Count  Dtype  \n",
            "---  ------  --------------  -----  \n",
            " 0   rui     12 non-null     float64\n",
            "dtypes: float64(1)\n",
            "memory usage: 192.0 bytes\n"
          ],
          "name": "stdout"
        },
        {
          "output_type": "execute_result",
          "data": {
            "text/plain": [
              "<matplotlib.axes._subplots.AxesSubplot at 0x7ff6364daeb8>"
            ]
          },
          "metadata": {
            "tags": []
          },
          "execution_count": 70
        },
        {
          "output_type": "display_data",
          "data": {
            "image/png": "[encoded data removed]",
            "text/plain": [
              "<Figure size 720x288 with 1 Axes>"
            ]
          },
          "metadata": {
            "tags": [],
            "needs_background": "light"
          }
        }
      ]
    },
    {
      "cell_type": "code",
      "metadata": {
        "id": "Ow8azkbnl4x-",
        "colab_type": "code",
        "colab": {
          "base_uri": "https://localhost:8080/",
          "height": 418
        },
        "outputId": "b7a5b58e-9aea-4be1-dba4-5b74d85e2e5e"
      },
      "source": [
        "%matplotlib inline\n",
        "\n",
        "temp = df_predictions.loc[df_predictions['iid'] == 46]['rui']\n",
        "s=pd.Series(temp)\n",
        "d=s.to_frame()\n",
        "d.info()\n",
        "plt.figure(figsize=(10,4))\n",
        "d['rui'].hist(bins=70)\n"
      ],
      "execution_count": null,
      "outputs": [
        {
          "output_type": "stream",
          "text": [
            "<class 'pandas.core.frame.DataFrame'>\n",
            "Int64Index: 2 entries, 10107 to 21654\n",
            "Data columns (total 1 columns):\n",
            " #   Column  Non-Null Count  Dtype  \n",
            "---  ------  --------------  -----  \n",
            " 0   rui     2 non-null      float64\n",
            "dtypes: float64(1)\n",
            "memory usage: 32.0 bytes\n"
          ],
          "name": "stdout"
        },
        {
          "output_type": "execute_result",
          "data": {
            "text/plain": [
              "<matplotlib.axes._subplots.AxesSubplot at 0x7ff65aaa64a8>"
            ]
          },
          "metadata": {
            "tags": []
          },
          "execution_count": 71
        },
        {
          "output_type": "display_data",
          "data": {
            "image/png": "[encoded data removed]",
            "text/plain": [
              "<Figure size 720x288 with 1 Axes>"
            ]
          },
          "metadata": {
            "tags": [],
            "needs_background": "light"
          }
        }
      ]
    },
    {
      "cell_type": "code",
      "metadata": {
        "id": "L-ehqiU3D8pi",
        "colab_type": "code",
        "colab": {
          "base_uri": "https://localhost:8080/",
          "height": 390
        },
        "outputId": "41411a3b-c3f7-4c4d-e28d-5d41648a88e2"
      },
      "source": [
        "final = []\n",
        "\n",
        "for threshold in np.arange(0, 5.5, 0.5):\n",
        "  tp=0\n",
        "  fn=0\n",
        "  fp=0\n",
        "  tn=0\n",
        "  temp = []\n",
        "\n",
        "  for uid, _, true_r, est, _ in predictions:\n",
        "    if(true_r>=threshold):\n",
        "      if(est>=threshold):\n",
        "        tp = tp+1\n",
        "      else:\n",
        "        fn = fn+1\n",
        "    else:\n",
        "      if(est>=threshold):\n",
        "        fp = fp+1\n",
        "      else:\n",
        "        tn = tn+1   \n",
        "\n",
        "    if tp == 0:\n",
        "      precision = 0\n",
        "      recall = 0\n",
        "      f1 = 0\n",
        "    else:\n",
        "      precision = tp / (tp + fp)\n",
        "      recall = tp / (tp + fn)\n",
        "      f1 = 2 * (precision * recall) / (precision + recall)  \n",
        "\n",
        "  temp = [threshold, tp,fp,tn ,fn, precision, recall, f1]\n",
        "  final.append(temp)\n",
        "\n",
        "results = pd.DataFrame(final)\n",
        "results.rename(columns={0:'threshold', 1:'tp', 2: 'fp', 3: 'tn', 4:'fn', 5: 'Precision', 6:'Recall', 7:'F1'}, inplace=True)\n",
        "results"
      ],
      "execution_count": null,
      "outputs": [
        {
          "output_type": "execute_result",
          "data": {
            "text/html": [
              "<div>\n",
              "<style scoped>\n",
              "    .dataframe tbody tr th:only-of-type {\n",
              "        vertical-align: middle;\n",
              "    }\n",
              "\n",
              "    .dataframe tbody tr th {\n",
              "        vertical-align: top;\n",
              "    }\n",
              "\n",
              "    .dataframe thead th {\n",
              "        text-align: right;\n",
              "    }\n",
              "</style>\n",
              "<table border=\"1\" class=\"dataframe\">\n",
              "  <thead>\n",
              "    <tr style=\"text-align: right;\">\n",
              "      <th></th>\n",
              "      <th>threshold</th>\n",
              "      <th>tp</th>\n",
              "      <th>fp</th>\n",
              "      <th>tn</th>\n",
              "      <th>fn</th>\n",
              "      <th>Precision</th>\n",
              "      <th>Recall</th>\n",
              "      <th>F1</th>\n",
              "    </tr>\n",
              "  </thead>\n",
              "  <tbody>\n",
              "    <tr>\n",
              "      <th>0</th>\n",
              "      <td>0.0</td>\n",
              "      <td>25001</td>\n",
              "      <td>0</td>\n",
              "      <td>0</td>\n",
              "      <td>0</td>\n",
              "      <td>1.000000</td>\n",
              "      <td>1.000000</td>\n",
              "      <td>1.000000</td>\n",
              "    </tr>\n",
              "    <tr>\n",
              "      <th>1</th>\n",
              "      <td>0.5</td>\n",
              "      <td>25001</td>\n",
              "      <td>0</td>\n",
              "      <td>0</td>\n",
              "      <td>0</td>\n",
              "      <td>1.000000</td>\n",
              "      <td>1.000000</td>\n",
              "      <td>1.000000</td>\n",
              "    </tr>\n",
              "    <tr>\n",
              "      <th>2</th>\n",
              "      <td>1.0</td>\n",
              "      <td>24724</td>\n",
              "      <td>273</td>\n",
              "      <td>2</td>\n",
              "      <td>2</td>\n",
              "      <td>0.989079</td>\n",
              "      <td>0.999919</td>\n",
              "      <td>0.994469</td>\n",
              "    </tr>\n",
              "    <tr>\n",
              "      <th>3</th>\n",
              "      <td>1.5</td>\n",
              "      <td>23888</td>\n",
              "      <td>1098</td>\n",
              "      <td>11</td>\n",
              "      <td>4</td>\n",
              "      <td>0.956055</td>\n",
              "      <td>0.999833</td>\n",
              "      <td>0.977454</td>\n",
              "    </tr>\n",
              "    <tr>\n",
              "      <th>4</th>\n",
              "      <td>2.0</td>\n",
              "      <td>23405</td>\n",
              "      <td>1437</td>\n",
              "      <td>96</td>\n",
              "      <td>63</td>\n",
              "      <td>0.942154</td>\n",
              "      <td>0.997315</td>\n",
              "      <td>0.968951</td>\n",
              "    </tr>\n",
              "    <tr>\n",
              "      <th>5</th>\n",
              "      <td>2.5</td>\n",
              "      <td>21257</td>\n",
              "      <td>2781</td>\n",
              "      <td>562</td>\n",
              "      <td>401</td>\n",
              "      <td>0.884308</td>\n",
              "      <td>0.981485</td>\n",
              "      <td>0.930366</td>\n",
              "    </tr>\n",
              "    <tr>\n",
              "      <th>6</th>\n",
              "      <td>3.0</td>\n",
              "      <td>18546</td>\n",
              "      <td>2427</td>\n",
              "      <td>2033</td>\n",
              "      <td>1995</td>\n",
              "      <td>0.884280</td>\n",
              "      <td>0.902877</td>\n",
              "      <td>0.893482</td>\n",
              "    </tr>\n",
              "    <tr>\n",
              "      <th>7</th>\n",
              "      <td>3.5</td>\n",
              "      <td>11015</td>\n",
              "      <td>2857</td>\n",
              "      <td>6588</td>\n",
              "      <td>4541</td>\n",
              "      <td>0.794046</td>\n",
              "      <td>0.708087</td>\n",
              "      <td>0.748607</td>\n",
              "    </tr>\n",
              "    <tr>\n",
              "      <th>8</th>\n",
              "      <td>4.0</td>\n",
              "      <td>4544</td>\n",
              "      <td>872</td>\n",
              "      <td>11255</td>\n",
              "      <td>8330</td>\n",
              "      <td>0.838996</td>\n",
              "      <td>0.352959</td>\n",
              "      <td>0.496884</td>\n",
              "    </tr>\n",
              "    <tr>\n",
              "      <th>9</th>\n",
              "      <td>4.5</td>\n",
              "      <td>568</td>\n",
              "      <td>228</td>\n",
              "      <td>19102</td>\n",
              "      <td>5103</td>\n",
              "      <td>0.713568</td>\n",
              "      <td>0.100159</td>\n",
              "      <td>0.175661</td>\n",
              "    </tr>\n",
              "    <tr>\n",
              "      <th>10</th>\n",
              "      <td>5.0</td>\n",
              "      <td>25</td>\n",
              "      <td>2</td>\n",
              "      <td>21253</td>\n",
              "      <td>3721</td>\n",
              "      <td>0.925926</td>\n",
              "      <td>0.006674</td>\n",
              "      <td>0.013252</td>\n",
              "    </tr>\n",
              "  </tbody>\n",
              "</table>\n",
              "</div>"
            ],
            "text/plain": [
              "    threshold     tp    fp     tn    fn  Precision    Recall        F1\n",
              "0         0.0  25001     0      0     0   1.000000  1.000000  1.000000\n",
              "1         0.5  25001     0      0     0   1.000000  1.000000  1.000000\n",
              "2         1.0  24724   273      2     2   0.989079  0.999919  0.994469\n",
              "3         1.5  23888  1098     11     4   0.956055  0.999833  0.977454\n",
              "4         2.0  23405  1437     96    63   0.942154  0.997315  0.968951\n",
              "5         2.5  21257  2781    562   401   0.884308  0.981485  0.930366\n",
              "6         3.0  18546  2427   2033  1995   0.884280  0.902877  0.893482\n",
              "7         3.5  11015  2857   6588  4541   0.794046  0.708087  0.748607\n",
              "8         4.0   4544   872  11255  8330   0.838996  0.352959  0.496884\n",
              "9         4.5    568   228  19102  5103   0.713568  0.100159  0.175661\n",
              "10        5.0     25     2  21253  3721   0.925926  0.006674  0.013252"
            ]
          },
          "metadata": {
            "tags": []
          },
          "execution_count": 72
        }
      ]
    },
    {
      "cell_type": "code",
      "metadata": {
        "id": "t6Q-xxwkEaAY",
        "colab_type": "code",
        "colab": {}
      },
      "source": [
        "def precision_recall_at_k(predictions, k, threshold):\n",
        "    '''Return precision and recall at k metrics for each user.'''\n",
        "\n",
        "    # First map the predictions to each user.\n",
        "    user_est_true = defaultdict(list)\n",
        "    for uid, _, true_r, est, _ in predictions:\n",
        "        user_est_true[uid].append((est, true_r))\n",
        "\n",
        "    precisions = dict()\n",
        "    recalls = dict()\n",
        "    for uid, user_ratings in user_est_true.items():\n",
        "\n",
        "        # Sort user ratings by estimated value\n",
        "        user_ratings.sort(key=lambda x: x[0], reverse=True)\n",
        "\n",
        "        # Number of relevant items\n",
        "        n_rel = sum((true_r >= threshold) for (_, true_r) in user_ratings)\n",
        "\n",
        "        # Number of recommended items in top k\n",
        "        n_rec_k = sum((est >= threshold) for (est, _) in user_ratings[:k])\n",
        "\n",
        "        # Number of relevant and recommended items in top k\n",
        "        n_rel_and_rec_k = sum(((true_r >= threshold) and (est >= threshold))\n",
        "                              for (est, true_r) in user_ratings[:k])\n",
        "\n",
        "        # Precision@K: Proportion of recommended items that are relevant\n",
        "        precisions[uid] = n_rel_and_rec_k / n_rec_k if n_rec_k != 0 else 1\n",
        "\n",
        "        # Recall@K: Proportion of relevant items that are recommended\n",
        "        recalls[uid] = n_rel_and_rec_k / n_rel if n_rel != 0 else 1\n",
        "\n",
        "    #tp = n_rel_and_rec_k\n",
        "    #fn =  n_rel - tp\n",
        "    #fp = n_rec_k - tp\n",
        "    return precisions, recalls\n",
        "    "
      ],
      "execution_count": null,
      "outputs": []
    },
    {
      "cell_type": "code",
      "metadata": {
        "id": "9Ef69E1qEppS",
        "colab_type": "code",
        "colab": {
          "base_uri": "https://localhost:8080/",
          "height": 170
        },
        "outputId": "f88a3cd6-52c4-4558-9645-7e56c8e596fd"
      },
      "source": [
        "results=[]\n",
        "for i in range(2, 11):\n",
        "    precisions, recalls = precision_recall_at_k(predictions, k=i, threshold=2.5)\n",
        "\n",
        "    # Precision and recall can then be averaged over all users\n",
        "    prec = sum(prec for prec in precisions.values()) / len(precisions)\n",
        "    rec = sum(rec for rec in recalls.values()) / len(recalls)\n",
        "    results.append({'K': i, 'Precision': prec, 'Recall': rec})\n",
        "    \n",
        "\n",
        "results"
      ],
      "execution_count": null,
      "outputs": [
        {
          "output_type": "execute_result",
          "data": {
            "text/plain": [
              "[{'K': 2, 'Precision': 0.9514925373134329, 'Recall': 0.17245302321834602},\n",
              " {'K': 3, 'Precision': 0.9445273631840798, 'Recall': 0.24914820661490272},\n",
              " {'K': 4, 'Precision': 0.941542288557214, 'Recall': 0.31796504546197196},\n",
              " {'K': 5, 'Precision': 0.9397512437810942, 'Recall': 0.3796458861386673},\n",
              " {'K': 6, 'Precision': 0.9358208955223877, 'Recall': 0.43205327727315646},\n",
              " {'K': 7, 'Precision': 0.9342217484008517, 'Recall': 0.47988130355918734},\n",
              " {'K': 8, 'Precision': 0.9320628997867801, 'Recall': 0.5181941779990626},\n",
              " {'K': 9, 'Precision': 0.92868396114665, 'Recall': 0.5510025784007623},\n",
              " {'K': 10, 'Precision': 0.9252345415778238, 'Recall': 0.5789662287527582}]"
            ]
          },
          "metadata": {
            "tags": []
          },
          "execution_count": 74
        }
      ]
    },
    {
      "cell_type": "code",
      "metadata": {
        "id": "dExpl6bvEuRB",
        "colab_type": "code",
        "colab": {
          "base_uri": "https://localhost:8080/",
          "height": 279
        },
        "outputId": "3cfbd99c-e7a7-46eb-fd5f-00f436f04aeb"
      },
      "source": [
        "Rec=[]\n",
        "Precision=[]\n",
        "Recall=[]\n",
        "for i in range(0,9):\n",
        "    Rec.append(results[i]['K'])\n",
        "    Precision.append(results[i]['Precision'])\n",
        "    Recall.append(results[i]['Recall'])\n",
        "\n",
        "from matplotlib import pyplot as plt\n",
        "plt.plot(Rec, Precision)\n",
        "plt.xlabel('# of Recommendations')\n",
        "plt.ylabel('Precision')\n",
        "plt2 = plt.twinx()\n",
        "plt2.plot(Rec, Recall, 'r')\n",
        "plt.ylabel('Recall')\n",
        "for tl in plt2.get_yticklabels():\n",
        "    tl.set_color('r')"
      ],
      "execution_count": null,
      "outputs": [
        {
          "output_type": "display_data",
          "data": {
            "image/png": "[encoded data removed]",
            "text/plain": [
              "<Figure size 432x288 with 2 Axes>"
            ]
          },
          "metadata": {
            "tags": [],
            "needs_background": "light"
          }
        }
      ]
    },
    {
      "cell_type": "code",
      "metadata": {
        "id": "z8QypbTXpqnL",
        "colab_type": "code",
        "colab": {}
      },
      "source": [
        "data = Dataset.load_from_df(df[['userID', 'itemID', 'rating']], reader)"
      ],
      "execution_count": null,
      "outputs": []
    },
    {
      "cell_type": "code",
      "metadata": {
        "id": "jxStCiCIE2a6",
        "colab_type": "code",
        "colab": {}
      },
      "source": [
        "trainset = data.build_full_trainset()   #Build on entire data set\n",
        "algo = SVD(n_factors=factors, n_epochs=epochs, lr_all=lr_value, reg_all=reg_value)\n",
        "algo.fit(trainset)\n",
        "\n",
        "# Predict ratings for all pairs (u, i) that are NOT in the training set.\n",
        "testset = trainset.build_anti_testset()\n",
        "\n",
        "#Predicting the ratings for testset\n",
        "predictions = algo.test(testset)\n"
      ],
      "execution_count": null,
      "outputs": []
    },
    {
      "cell_type": "code",
      "metadata": {
        "id": "DWNp4WvoM_r-",
        "colab_type": "code",
        "colab": {}
      },
      "source": [
        "def get_all_predictions(predictions):\n",
        "    \n",
        "    # First map the predictions to each user.\n",
        "    top_n = defaultdict(list)    \n",
        "    for uid, iid, true_r, est, _ in predictions:\n",
        "        top_n[uid].append((iid, est))\n",
        "\n",
        "    # Then sort the predictions for each user\n",
        "    for uid, user_ratings in top_n.items():\n",
        "        user_ratings.sort(key=lambda x: x[1], reverse=True)\n",
        "                \n",
        "    return top_n\n"
      ],
      "execution_count": null,
      "outputs": []
    },
    {
      "cell_type": "code",
      "metadata": {
        "id": "eI1vmMFoNA_k",
        "colab_type": "code",
        "colab": {}
      },
      "source": [
        "all_pred = get_all_predictions(predictions)\n",
        "\n"
      ],
      "execution_count": null,
      "outputs": []
    },
    {
      "cell_type": "code",
      "metadata": {
        "id": "vpSQwJMCNKLH",
        "colab_type": "code",
        "colab": {
          "base_uri": "https://localhost:8080/",
          "height": 142
        },
        "outputId": "a1f66347-a59a-4183-e56b-bb0658604ea3"
      },
      "source": [
        "n = 4\n",
        "for uid, user_ratings in all_pred.items():\n",
        "    user_ratings.sort(key=lambda x: x[1], reverse=True)\n",
        "    all_pred[uid] = user_ratings[:n]\n",
        "\n",
        "tmp = pd.DataFrame.from_dict(all_pred)\n",
        "tmp_transpose = tmp.transpose()\n",
        "\n",
        "\n",
        "tmp_transpose.head(3)\n"
      ],
      "execution_count": null,
      "outputs": [
        {
          "output_type": "execute_result",
          "data": {
            "text/html": [
              "<div>\n",
              "<style scoped>\n",
              "    .dataframe tbody tr th:only-of-type {\n",
              "        vertical-align: middle;\n",
              "    }\n",
              "\n",
              "    .dataframe tbody tr th {\n",
              "        vertical-align: top;\n",
              "    }\n",
              "\n",
              "    .dataframe thead th {\n",
              "        text-align: right;\n",
              "    }\n",
              "</style>\n",
              "<table border=\"1\" class=\"dataframe\">\n",
              "  <thead>\n",
              "    <tr style=\"text-align: right;\">\n",
              "      <th></th>\n",
              "      <th>0</th>\n",
              "      <th>1</th>\n",
              "      <th>2</th>\n",
              "      <th>3</th>\n",
              "    </tr>\n",
              "  </thead>\n",
              "  <tbody>\n",
              "    <tr>\n",
              "      <th>1</th>\n",
              "      <td>(926, 3.5143669899553793)</td>\n",
              "      <td>(1147, 3.4951347108562336)</td>\n",
              "      <td>(1217, 3.4943757004408726)</td>\n",
              "      <td>(3030, 3.4937408132627925)</td>\n",
              "    </tr>\n",
              "    <tr>\n",
              "      <th>2</th>\n",
              "      <td>(969, 4.368901671208965)</td>\n",
              "      <td>(318, 4.367668546840565)</td>\n",
              "      <td>(3030, 4.3674841172508385)</td>\n",
              "      <td>(926, 4.35670393988687)</td>\n",
              "    </tr>\n",
              "    <tr>\n",
              "      <th>3</th>\n",
              "      <td>(3462, 4.312368432431087)</td>\n",
              "      <td>(5114, 4.303976490785672)</td>\n",
              "      <td>(8132, 4.302255417013004)</td>\n",
              "      <td>(1939, 4.300442396492708)</td>\n",
              "    </tr>\n",
              "  </tbody>\n",
              "</table>\n",
              "</div>"
            ],
            "text/plain": [
              "                           0  ...                           3\n",
              "1  (926, 3.5143669899553793)  ...  (3030, 3.4937408132627925)\n",
              "2   (969, 4.368901671208965)  ...     (926, 4.35670393988687)\n",
              "3  (3462, 4.312368432431087)  ...   (1939, 4.300442396492708)\n",
              "\n",
              "[3 rows x 4 columns]"
            ]
          },
          "metadata": {
            "tags": []
          },
          "execution_count": 88
        }
      ]
    },
    {
      "cell_type": "code",
      "metadata": {
        "id": "zSsMGxnN0eQD",
        "colab_type": "code",
        "colab": {}
      },
      "source": [
        "def get_predictions(user_id):\n",
        "    results = tmp_transpose.loc[user_id]\n",
        "    return results"
      ],
      "execution_count": null,
      "outputs": []
    },
    {
      "cell_type": "code",
      "metadata": {
        "id": "FbsThyBp13ya",
        "colab_type": "code",
        "colab": {
          "base_uri": "https://localhost:8080/",
          "height": 102
        },
        "outputId": "6fa8891b-c670-46df-8c3f-02bfb302e893"
      },
      "source": [
        "user_id=67\n",
        "results = get_predictions(user_id)\n",
        "results"
      ],
      "execution_count": null,
      "outputs": [
        {
          "output_type": "execute_result",
          "data": {
            "text/plain": [
              "0     (858, 4.728225224826817)\n",
              "1    (1939, 4.709307088737457)\n",
              "2      (905, 4.69313068486962)\n",
              "3     (994, 4.677384393650979)\n",
              "Name: 67, dtype: object"
            ]
          },
          "metadata": {
            "tags": []
          },
          "execution_count": 90
        }
      ]
    },
    {
      "cell_type": "code",
      "metadata": {
        "id": "pfpnktOX18tv",
        "colab_type": "code",
        "colab": {
          "base_uri": "https://localhost:8080/",
          "height": 34
        },
        "outputId": "ec13042f-5ae7-4478-ccb6-14aa20a469ad"
      },
      "source": [
        "recommended_movie_ids=[]\n",
        "for x in range(0, n):\n",
        "    recommended_movie_ids.append(results[x][0])\n",
        "\n",
        "recommended_movie_ids"
      ],
      "execution_count": null,
      "outputs": [
        {
          "output_type": "execute_result",
          "data": {
            "text/plain": [
              "[858, 1939, 905, 994]"
            ]
          },
          "metadata": {
            "tags": []
          },
          "execution_count": 94
        }
      ]
    },
    {
      "cell_type": "code",
      "metadata": {
        "id": "TzGfVNVSq_-W",
        "colab_type": "code",
        "colab": {
          "base_uri": "https://localhost:8080/",
          "height": 173
        },
        "outputId": "8b254a8d-ae93-4ab2-ce53-61948fb7ac8d"
      },
      "source": [
        "movies = pd.read_csv('/content/drive/My Drive/recommender system/movies.csv')\n",
        "movies.head()\n",
        "recommended_movies = movies[movies['movieId'].isin(recommended_movie_ids)]\n",
        "recommended_movies"
      ],
      "execution_count": null,
      "outputs": [
        {
          "output_type": "execute_result",
          "data": {
            "text/html": [
              "<div>\n",
              "<style scoped>\n",
              "    .dataframe tbody tr th:only-of-type {\n",
              "        vertical-align: middle;\n",
              "    }\n",
              "\n",
              "    .dataframe tbody tr th {\n",
              "        vertical-align: top;\n",
              "    }\n",
              "\n",
              "    .dataframe thead th {\n",
              "        text-align: right;\n",
              "    }\n",
              "</style>\n",
              "<table border=\"1\" class=\"dataframe\">\n",
              "  <thead>\n",
              "    <tr style=\"text-align: right;\">\n",
              "      <th></th>\n",
              "      <th>movieId</th>\n",
              "      <th>title</th>\n",
              "      <th>genres</th>\n",
              "    </tr>\n",
              "  </thead>\n",
              "  <tbody>\n",
              "    <tr>\n",
              "      <th>840</th>\n",
              "      <td>858</td>\n",
              "      <td>Godfather, The (1972)</td>\n",
              "      <td>Crime|Drama</td>\n",
              "    </tr>\n",
              "    <tr>\n",
              "      <th>884</th>\n",
              "      <td>905</td>\n",
              "      <td>It Happened One Night (1934)</td>\n",
              "      <td>Comedy|Romance</td>\n",
              "    </tr>\n",
              "    <tr>\n",
              "      <th>972</th>\n",
              "      <td>994</td>\n",
              "      <td>Big Night (1996)</td>\n",
              "      <td>Comedy|Drama</td>\n",
              "    </tr>\n",
              "    <tr>\n",
              "      <th>1850</th>\n",
              "      <td>1939</td>\n",
              "      <td>Best Years of Our Lives, The (1946)</td>\n",
              "      <td>Drama|War</td>\n",
              "    </tr>\n",
              "  </tbody>\n",
              "</table>\n",
              "</div>"
            ],
            "text/plain": [
              "      movieId                                title          genres\n",
              "840       858                Godfather, The (1972)     Crime|Drama\n",
              "884       905         It Happened One Night (1934)  Comedy|Romance\n",
              "972       994                     Big Night (1996)    Comedy|Drama\n",
              "1850     1939  Best Years of Our Lives, The (1946)       Drama|War"
            ]
          },
          "metadata": {
            "tags": []
          },
          "execution_count": 96
        }
      ]
    },
    {
      "cell_type": "code",
      "metadata": {
        "id": "4KB0oUNFrvBe",
        "colab_type": "code",
        "colab": {
          "base_uri": "https://localhost:8080/",
          "height": 204
        },
        "outputId": "1dcaf623-6325-4ae0-f0b7-7b29f1037d10"
      },
      "source": [
        "ratings_dict = {'itemID': list(ratings.movieId),\n",
        "                'userID': list(ratings.userId),\n",
        "                'rating': list(ratings.rating)}\n",
        "\n",
        "df = pd.DataFrame(ratings_dict)\n",
        "df.head()"
      ],
      "execution_count": null,
      "outputs": [
        {
          "output_type": "execute_result",
          "data": {
            "text/html": [
              "<div>\n",
              "<style scoped>\n",
              "    .dataframe tbody tr th:only-of-type {\n",
              "        vertical-align: middle;\n",
              "    }\n",
              "\n",
              "    .dataframe tbody tr th {\n",
              "        vertical-align: top;\n",
              "    }\n",
              "\n",
              "    .dataframe thead th {\n",
              "        text-align: right;\n",
              "    }\n",
              "</style>\n",
              "<table border=\"1\" class=\"dataframe\">\n",
              "  <thead>\n",
              "    <tr style=\"text-align: right;\">\n",
              "      <th></th>\n",
              "      <th>itemID</th>\n",
              "      <th>userID</th>\n",
              "      <th>rating</th>\n",
              "    </tr>\n",
              "  </thead>\n",
              "  <tbody>\n",
              "    <tr>\n",
              "      <th>0</th>\n",
              "      <td>31</td>\n",
              "      <td>1</td>\n",
              "      <td>2.5</td>\n",
              "    </tr>\n",
              "    <tr>\n",
              "      <th>1</th>\n",
              "      <td>1029</td>\n",
              "      <td>1</td>\n",
              "      <td>3.0</td>\n",
              "    </tr>\n",
              "    <tr>\n",
              "      <th>2</th>\n",
              "      <td>1061</td>\n",
              "      <td>1</td>\n",
              "      <td>3.0</td>\n",
              "    </tr>\n",
              "    <tr>\n",
              "      <th>3</th>\n",
              "      <td>1129</td>\n",
              "      <td>1</td>\n",
              "      <td>2.0</td>\n",
              "    </tr>\n",
              "    <tr>\n",
              "      <th>4</th>\n",
              "      <td>1172</td>\n",
              "      <td>1</td>\n",
              "      <td>4.0</td>\n",
              "    </tr>\n",
              "  </tbody>\n",
              "</table>\n",
              "</div>"
            ],
            "text/plain": [
              "   itemID  userID  rating\n",
              "0      31       1     2.5\n",
              "1    1029       1     3.0\n",
              "2    1061       1     3.0\n",
              "3    1129       1     2.0\n",
              "4    1172       1     4.0"
            ]
          },
          "metadata": {
            "tags": []
          },
          "execution_count": 98
        }
      ]
    },
    {
      "cell_type": "code",
      "metadata": {
        "id": "BPW8lD44r9LW",
        "colab_type": "code",
        "colab": {
          "base_uri": "https://localhost:8080/",
          "height": 204
        },
        "outputId": "dae44f2e-c581-4dbe-a0c3-86530498e733"
      },
      "source": [
        "temp = df[df['userID'] == 67].sort_values(\"rating\", ascending = False)\n",
        "temp.head()"
      ],
      "execution_count": null,
      "outputs": [
        {
          "output_type": "execute_result",
          "data": {
            "text/html": [
              "<div>\n",
              "<style scoped>\n",
              "    .dataframe tbody tr th:only-of-type {\n",
              "        vertical-align: middle;\n",
              "    }\n",
              "\n",
              "    .dataframe tbody tr th {\n",
              "        vertical-align: top;\n",
              "    }\n",
              "\n",
              "    .dataframe thead th {\n",
              "        text-align: right;\n",
              "    }\n",
              "</style>\n",
              "<table border=\"1\" class=\"dataframe\">\n",
              "  <thead>\n",
              "    <tr style=\"text-align: right;\">\n",
              "      <th></th>\n",
              "      <th>itemID</th>\n",
              "      <th>userID</th>\n",
              "      <th>rating</th>\n",
              "    </tr>\n",
              "  </thead>\n",
              "  <tbody>\n",
              "    <tr>\n",
              "      <th>9712</th>\n",
              "      <td>1097</td>\n",
              "      <td>67</td>\n",
              "      <td>5.0</td>\n",
              "    </tr>\n",
              "    <tr>\n",
              "      <th>9635</th>\n",
              "      <td>265</td>\n",
              "      <td>67</td>\n",
              "      <td>5.0</td>\n",
              "    </tr>\n",
              "    <tr>\n",
              "      <th>9639</th>\n",
              "      <td>279</td>\n",
              "      <td>67</td>\n",
              "      <td>5.0</td>\n",
              "    </tr>\n",
              "    <tr>\n",
              "      <th>9640</th>\n",
              "      <td>280</td>\n",
              "      <td>67</td>\n",
              "      <td>5.0</td>\n",
              "    </tr>\n",
              "    <tr>\n",
              "      <th>9641</th>\n",
              "      <td>282</td>\n",
              "      <td>67</td>\n",
              "      <td>5.0</td>\n",
              "    </tr>\n",
              "  </tbody>\n",
              "</table>\n",
              "</div>"
            ],
            "text/plain": [
              "      itemID  userID  rating\n",
              "9712    1097      67     5.0\n",
              "9635     265      67     5.0\n",
              "9639     279      67     5.0\n",
              "9640     280      67     5.0\n",
              "9641     282      67     5.0"
            ]
          },
          "metadata": {
            "tags": []
          },
          "execution_count": 99
        }
      ]
    },
    {
      "cell_type": "code",
      "metadata": {
        "id": "H9boYQxQr-ZJ",
        "colab_type": "code",
        "colab": {
          "base_uri": "https://localhost:8080/",
          "height": 34
        },
        "outputId": "147d4fca-4473-458b-a151-5b2beda4d1e0"
      },
      "source": [
        "temp.shape"
      ],
      "execution_count": null,
      "outputs": [
        {
          "output_type": "execute_result",
          "data": {
            "text/plain": [
              "(103, 3)"
            ]
          },
          "metadata": {
            "tags": []
          },
          "execution_count": 100
        }
      ]
    },
    {
      "cell_type": "code",
      "metadata": {
        "id": "PmjZi7IxsFdp",
        "colab_type": "code",
        "colab": {}
      },
      "source": [
        "history_movie_ids = temp['itemID']\n",
        "user_history = movies[movies['movieId'].isin(history_movie_ids)]"
      ],
      "execution_count": null,
      "outputs": []
    },
    {
      "cell_type": "code",
      "metadata": {
        "id": "GQqmzFHJsKw-",
        "colab_type": "code",
        "colab": {
          "base_uri": "https://localhost:8080/",
          "height": 173
        },
        "outputId": "34ed8430-9a25-4f09-9838-81d853063119"
      },
      "source": [
        "user_history[:n]"
      ],
      "execution_count": null,
      "outputs": [
        {
          "output_type": "execute_result",
          "data": {
            "text/html": [
              "<div>\n",
              "<style scoped>\n",
              "    .dataframe tbody tr th:only-of-type {\n",
              "        vertical-align: middle;\n",
              "    }\n",
              "\n",
              "    .dataframe tbody tr th {\n",
              "        vertical-align: top;\n",
              "    }\n",
              "\n",
              "    .dataframe thead th {\n",
              "        text-align: right;\n",
              "    }\n",
              "</style>\n",
              "<table border=\"1\" class=\"dataframe\">\n",
              "  <thead>\n",
              "    <tr style=\"text-align: right;\">\n",
              "      <th></th>\n",
              "      <th>movieId</th>\n",
              "      <th>title</th>\n",
              "      <th>genres</th>\n",
              "    </tr>\n",
              "  </thead>\n",
              "  <tbody>\n",
              "    <tr>\n",
              "      <th>0</th>\n",
              "      <td>1</td>\n",
              "      <td>Toy Story (1995)</td>\n",
              "      <td>Adventure|Animation|Children|Comedy|Fantasy</td>\n",
              "    </tr>\n",
              "    <tr>\n",
              "      <th>5</th>\n",
              "      <td>6</td>\n",
              "      <td>Heat (1995)</td>\n",
              "      <td>Action|Crime|Thriller</td>\n",
              "    </tr>\n",
              "    <tr>\n",
              "      <th>11</th>\n",
              "      <td>12</td>\n",
              "      <td>Dracula: Dead and Loving It (1995)</td>\n",
              "      <td>Comedy|Horror</td>\n",
              "    </tr>\n",
              "    <tr>\n",
              "      <th>15</th>\n",
              "      <td>16</td>\n",
              "      <td>Casino (1995)</td>\n",
              "      <td>Crime|Drama</td>\n",
              "    </tr>\n",
              "  </tbody>\n",
              "</table>\n",
              "</div>"
            ],
            "text/plain": [
              "    movieId  ...                                       genres\n",
              "0         1  ...  Adventure|Animation|Children|Comedy|Fantasy\n",
              "5         6  ...                        Action|Crime|Thriller\n",
              "11       12  ...                                Comedy|Horror\n",
              "15       16  ...                                  Crime|Drama\n",
              "\n",
              "[4 rows x 3 columns]"
            ]
          },
          "metadata": {
            "tags": []
          },
          "execution_count": 102
        }
      ]
    },
    {
      "cell_type": "code",
      "metadata": {
        "id": "rhcrleLmsOrD",
        "colab_type": "code",
        "colab": {
          "base_uri": "https://localhost:8080/",
          "height": 173
        },
        "outputId": "3a09c720-0eb5-4975-e565-aa3ce15107e9"
      },
      "source": [
        "recommended_movies"
      ],
      "execution_count": null,
      "outputs": [
        {
          "output_type": "execute_result",
          "data": {
            "text/html": [
              "<div>\n",
              "<style scoped>\n",
              "    .dataframe tbody tr th:only-of-type {\n",
              "        vertical-align: middle;\n",
              "    }\n",
              "\n",
              "    .dataframe tbody tr th {\n",
              "        vertical-align: top;\n",
              "    }\n",
              "\n",
              "    .dataframe thead th {\n",
              "        text-align: right;\n",
              "    }\n",
              "</style>\n",
              "<table border=\"1\" class=\"dataframe\">\n",
              "  <thead>\n",
              "    <tr style=\"text-align: right;\">\n",
              "      <th></th>\n",
              "      <th>movieId</th>\n",
              "      <th>title</th>\n",
              "      <th>genres</th>\n",
              "    </tr>\n",
              "  </thead>\n",
              "  <tbody>\n",
              "    <tr>\n",
              "      <th>840</th>\n",
              "      <td>858</td>\n",
              "      <td>Godfather, The (1972)</td>\n",
              "      <td>Crime|Drama</td>\n",
              "    </tr>\n",
              "    <tr>\n",
              "      <th>884</th>\n",
              "      <td>905</td>\n",
              "      <td>It Happened One Night (1934)</td>\n",
              "      <td>Comedy|Romance</td>\n",
              "    </tr>\n",
              "    <tr>\n",
              "      <th>972</th>\n",
              "      <td>994</td>\n",
              "      <td>Big Night (1996)</td>\n",
              "      <td>Comedy|Drama</td>\n",
              "    </tr>\n",
              "    <tr>\n",
              "      <th>1850</th>\n",
              "      <td>1939</td>\n",
              "      <td>Best Years of Our Lives, The (1946)</td>\n",
              "      <td>Drama|War</td>\n",
              "    </tr>\n",
              "  </tbody>\n",
              "</table>\n",
              "</div>"
            ],
            "text/plain": [
              "      movieId                                title          genres\n",
              "840       858                Godfather, The (1972)     Crime|Drama\n",
              "884       905         It Happened One Night (1934)  Comedy|Romance\n",
              "972       994                     Big Night (1996)    Comedy|Drama\n",
              "1850     1939  Best Years of Our Lives, The (1946)       Drama|War"
            ]
          },
          "metadata": {
            "tags": []
          },
          "execution_count": 103
        }
      ]
    },
    {
      "cell_type": "code",
      "metadata": {
        "id": "e5a2_Z-csYoT",
        "colab_type": "code",
        "colab": {}
      },
      "source": [
        ""
      ],
      "execution_count": null,
      "outputs": []
    }
  ]
}